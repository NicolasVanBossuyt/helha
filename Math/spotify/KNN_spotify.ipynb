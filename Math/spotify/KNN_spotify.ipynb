{
 "cells": [
  {
   "cell_type": "code",
   "execution_count": 1,
   "metadata": {},
   "outputs": [
    {
     "name": "stderr",
     "output_type": "stream",
     "text": [
      "/Library/Frameworks/Python.framework/Versions/3.6/lib/python3.6/importlib/_bootstrap.py:219: RuntimeWarning: numpy.dtype size changed, may indicate binary incompatibility. Expected 96, got 88\n",
      "  return f(*args, **kwds)\n",
      "/Library/Frameworks/Python.framework/Versions/3.6/lib/python3.6/importlib/_bootstrap.py:219: RuntimeWarning: numpy.dtype size changed, may indicate binary incompatibility. Expected 96, got 88\n",
      "  return f(*args, **kwds)\n"
     ]
    }
   ],
   "source": [
    "import numpy as np\n",
    "import pandas as pd\n",
    "import seaborn as sns\n",
    "import matplotlib.pyplot as plt\n",
    "from math import sqrt\n",
    "from sklearn.metrics import mean_squared_error\n",
    "from sklearn.neighbors import KNeighborsRegressor\n",
    "from sklearn.model_selection import train_test_split, cross_val_score\n",
    "%matplotlib inline"
   ]
  },
  {
   "cell_type": "markdown",
   "metadata": {},
   "source": [
    "# 1. Phase préparatoire des données "
   ]
  },
  {
   "cell_type": "markdown",
   "metadata": {},
   "source": [
    "---------"
   ]
  },
  {
   "cell_type": "markdown",
   "metadata": {},
   "source": [
    "\n",
    "## 1.1 Chargement"
   ]
  },
  {
   "cell_type": "code",
   "execution_count": 2,
   "metadata": {},
   "outputs": [],
   "source": [
    "# mettez le chemin de VOTRE fichier\n",
    "PATH_DATA = '../Assets/spotify/all.csv'"
   ]
  },
  {
   "cell_type": "code",
   "execution_count": 3,
   "metadata": {},
   "outputs": [],
   "source": [
    "sp = pd.read_csv(PATH_DATA, sep = '\\t')"
   ]
  },
  {
   "cell_type": "markdown",
   "metadata": {},
   "source": [
    "## 1.2 Rapide tour du propriétaire"
   ]
  },
  {
   "cell_type": "code",
   "execution_count": 4,
   "metadata": {},
   "outputs": [
    {
     "data": {
      "text/plain": [
       "(671, 12)"
      ]
     },
     "execution_count": 4,
     "metadata": {},
     "output_type": "execute_result"
    }
   ],
   "source": [
    "sp.shape"
   ]
  },
  {
   "cell_type": "code",
   "execution_count": 5,
   "metadata": {},
   "outputs": [
    {
     "data": {
      "text/plain": [
       "2"
      ]
     },
     "execution_count": 5,
     "metadata": {},
     "output_type": "execute_result"
    }
   ],
   "source": [
    "sp.ndim"
   ]
  },
  {
   "cell_type": "code",
   "execution_count": 6,
   "metadata": {},
   "outputs": [
    {
     "data": {
      "text/plain": [
       "title           object\n",
       "artist          object\n",
       "release         object\n",
       "bpm              int64\n",
       "energy           int64\n",
       "danceability     int64\n",
       "loud             int64\n",
       "valence          int64\n",
       "length          object\n",
       "acoustic         int64\n",
       "popularity       int64\n",
       "style           object\n",
       "dtype: object"
      ]
     },
     "execution_count": 6,
     "metadata": {},
     "output_type": "execute_result"
    }
   ],
   "source": [
    "sp.dtypes"
   ]
  },
  {
   "cell_type": "code",
   "execution_count": 7,
   "metadata": {
    "scrolled": true
   },
   "outputs": [
    {
     "data": {
      "text/html": [
       "<div>\n",
       "<style scoped>\n",
       "    .dataframe tbody tr th:only-of-type {\n",
       "        vertical-align: middle;\n",
       "    }\n",
       "\n",
       "    .dataframe tbody tr th {\n",
       "        vertical-align: top;\n",
       "    }\n",
       "\n",
       "    .dataframe thead th {\n",
       "        text-align: right;\n",
       "    }\n",
       "</style>\n",
       "<table border=\"1\" class=\"dataframe\">\n",
       "  <thead>\n",
       "    <tr style=\"text-align: right;\">\n",
       "      <th></th>\n",
       "      <th>title</th>\n",
       "      <th>artist</th>\n",
       "      <th>release</th>\n",
       "      <th>bpm</th>\n",
       "      <th>energy</th>\n",
       "      <th>danceability</th>\n",
       "      <th>loud</th>\n",
       "      <th>valence</th>\n",
       "      <th>length</th>\n",
       "      <th>acoustic</th>\n",
       "      <th>popularity</th>\n",
       "      <th>style</th>\n",
       "    </tr>\n",
       "  </thead>\n",
       "  <tbody>\n",
       "    <tr>\n",
       "      <th>0</th>\n",
       "      <td>Don't Let Me Down</td>\n",
       "      <td>The Chainsmokers</td>\n",
       "      <td>5/02/16</td>\n",
       "      <td>160</td>\n",
       "      <td>87</td>\n",
       "      <td>53</td>\n",
       "      <td>-5</td>\n",
       "      <td>42</td>\n",
       "      <td>03:28</td>\n",
       "      <td>16</td>\n",
       "      <td>84</td>\n",
       "      <td>POP</td>\n",
       "    </tr>\n",
       "    <tr>\n",
       "      <th>1</th>\n",
       "      <td>In the Name of Love</td>\n",
       "      <td>Martin Garrix</td>\n",
       "      <td>29/07/16</td>\n",
       "      <td>134</td>\n",
       "      <td>52</td>\n",
       "      <td>50</td>\n",
       "      <td>-6</td>\n",
       "      <td>17</td>\n",
       "      <td>03:16</td>\n",
       "      <td>11</td>\n",
       "      <td>83</td>\n",
       "      <td>POP</td>\n",
       "    </tr>\n",
       "    <tr>\n",
       "      <th>2</th>\n",
       "      <td>FRIENDS</td>\n",
       "      <td>Marshmello</td>\n",
       "      <td>9/02/18</td>\n",
       "      <td>95</td>\n",
       "      <td>88</td>\n",
       "      <td>63</td>\n",
       "      <td>-2</td>\n",
       "      <td>53</td>\n",
       "      <td>03:23</td>\n",
       "      <td>21</td>\n",
       "      <td>90</td>\n",
       "      <td>POP</td>\n",
       "    </tr>\n",
       "    <tr>\n",
       "      <th>3</th>\n",
       "      <td>The Middle</td>\n",
       "      <td>Zedd</td>\n",
       "      <td>23/01/18</td>\n",
       "      <td>107</td>\n",
       "      <td>65</td>\n",
       "      <td>75</td>\n",
       "      <td>-3</td>\n",
       "      <td>43</td>\n",
       "      <td>03:05</td>\n",
       "      <td>21</td>\n",
       "      <td>54</td>\n",
       "      <td>POP</td>\n",
       "    </tr>\n",
       "    <tr>\n",
       "      <th>4</th>\n",
       "      <td>Never Forget You</td>\n",
       "      <td>Zara Larsson</td>\n",
       "      <td>10/09/15</td>\n",
       "      <td>146</td>\n",
       "      <td>73</td>\n",
       "      <td>58</td>\n",
       "      <td>-6</td>\n",
       "      <td>28</td>\n",
       "      <td>03:33</td>\n",
       "      <td>0</td>\n",
       "      <td>22</td>\n",
       "      <td>POP</td>\n",
       "    </tr>\n",
       "  </tbody>\n",
       "</table>\n",
       "</div>"
      ],
      "text/plain": [
       "                 title            artist   release  bpm  energy  danceability  \\\n",
       "0    Don't Let Me Down  The Chainsmokers   5/02/16  160      87            53   \n",
       "1  In the Name of Love     Martin Garrix  29/07/16  134      52            50   \n",
       "2              FRIENDS        Marshmello   9/02/18   95      88            63   \n",
       "3           The Middle              Zedd  23/01/18  107      65            75   \n",
       "4     Never Forget You      Zara Larsson  10/09/15  146      73            58   \n",
       "\n",
       "   loud  valence length  acoustic  popularity style  \n",
       "0    -5       42  03:28        16          84   POP  \n",
       "1    -6       17  03:16        11          83   POP  \n",
       "2    -2       53  03:23        21          90   POP  \n",
       "3    -3       43  03:05        21          54   POP  \n",
       "4    -6       28  03:33         0          22   POP  "
      ]
     },
     "execution_count": 7,
     "metadata": {},
     "output_type": "execute_result"
    }
   ],
   "source": [
    "sp.head()"
   ]
  },
  {
   "cell_type": "markdown",
   "metadata": {},
   "source": [
    "## 1.3 Transformation"
   ]
  },
  {
   "cell_type": "markdown",
   "metadata": {},
   "source": [
    "Juste au-dessus de ce titre, nous pouvons remarquer que la variable *length* est en string. \n",
    "Faisons en sorte que la longueur de chaque chanson soit représentée en secondes."
   ]
  },
  {
   "cell_type": "markdown",
   "metadata": {},
   "source": [
    "Pour ce faire, réalisons une petite fonction :"
   ]
  },
  {
   "cell_type": "code",
   "execution_count": 8,
   "metadata": {},
   "outputs": [],
   "source": [
    "def length_str_to_min(length):\n",
    "    minutes, secondes = list(map(lambda v: int(v), length.split(':')))\n",
    "    return minutes * 60 + secondes"
   ]
  },
  {
   "cell_type": "markdown",
   "metadata": {},
   "source": [
    "Appliquons-là et créons une nouvelle colonne qui se nommera *length_minutes* :"
   ]
  },
  {
   "cell_type": "code",
   "execution_count": 9,
   "metadata": {},
   "outputs": [],
   "source": [
    "sp['length_minutes'] = sp['length'].apply(length_str_to_min)"
   ]
  },
  {
   "cell_type": "markdown",
   "metadata": {},
   "source": [
    "Visualisons le résultat :"
   ]
  },
  {
   "cell_type": "code",
   "execution_count": 10,
   "metadata": {},
   "outputs": [
    {
     "data": {
      "text/html": [
       "<div>\n",
       "<style scoped>\n",
       "    .dataframe tbody tr th:only-of-type {\n",
       "        vertical-align: middle;\n",
       "    }\n",
       "\n",
       "    .dataframe tbody tr th {\n",
       "        vertical-align: top;\n",
       "    }\n",
       "\n",
       "    .dataframe thead th {\n",
       "        text-align: right;\n",
       "    }\n",
       "</style>\n",
       "<table border=\"1\" class=\"dataframe\">\n",
       "  <thead>\n",
       "    <tr style=\"text-align: right;\">\n",
       "      <th></th>\n",
       "      <th>title</th>\n",
       "      <th>artist</th>\n",
       "      <th>release</th>\n",
       "      <th>bpm</th>\n",
       "      <th>energy</th>\n",
       "      <th>danceability</th>\n",
       "      <th>loud</th>\n",
       "      <th>valence</th>\n",
       "      <th>length</th>\n",
       "      <th>acoustic</th>\n",
       "      <th>popularity</th>\n",
       "      <th>style</th>\n",
       "      <th>length_minutes</th>\n",
       "    </tr>\n",
       "  </thead>\n",
       "  <tbody>\n",
       "    <tr>\n",
       "      <th>0</th>\n",
       "      <td>Don't Let Me Down</td>\n",
       "      <td>The Chainsmokers</td>\n",
       "      <td>5/02/16</td>\n",
       "      <td>160</td>\n",
       "      <td>87</td>\n",
       "      <td>53</td>\n",
       "      <td>-5</td>\n",
       "      <td>42</td>\n",
       "      <td>03:28</td>\n",
       "      <td>16</td>\n",
       "      <td>84</td>\n",
       "      <td>POP</td>\n",
       "      <td>208</td>\n",
       "    </tr>\n",
       "    <tr>\n",
       "      <th>1</th>\n",
       "      <td>In the Name of Love</td>\n",
       "      <td>Martin Garrix</td>\n",
       "      <td>29/07/16</td>\n",
       "      <td>134</td>\n",
       "      <td>52</td>\n",
       "      <td>50</td>\n",
       "      <td>-6</td>\n",
       "      <td>17</td>\n",
       "      <td>03:16</td>\n",
       "      <td>11</td>\n",
       "      <td>83</td>\n",
       "      <td>POP</td>\n",
       "      <td>196</td>\n",
       "    </tr>\n",
       "    <tr>\n",
       "      <th>2</th>\n",
       "      <td>FRIENDS</td>\n",
       "      <td>Marshmello</td>\n",
       "      <td>9/02/18</td>\n",
       "      <td>95</td>\n",
       "      <td>88</td>\n",
       "      <td>63</td>\n",
       "      <td>-2</td>\n",
       "      <td>53</td>\n",
       "      <td>03:23</td>\n",
       "      <td>21</td>\n",
       "      <td>90</td>\n",
       "      <td>POP</td>\n",
       "      <td>203</td>\n",
       "    </tr>\n",
       "    <tr>\n",
       "      <th>3</th>\n",
       "      <td>The Middle</td>\n",
       "      <td>Zedd</td>\n",
       "      <td>23/01/18</td>\n",
       "      <td>107</td>\n",
       "      <td>65</td>\n",
       "      <td>75</td>\n",
       "      <td>-3</td>\n",
       "      <td>43</td>\n",
       "      <td>03:05</td>\n",
       "      <td>21</td>\n",
       "      <td>54</td>\n",
       "      <td>POP</td>\n",
       "      <td>185</td>\n",
       "    </tr>\n",
       "    <tr>\n",
       "      <th>4</th>\n",
       "      <td>Never Forget You</td>\n",
       "      <td>Zara Larsson</td>\n",
       "      <td>10/09/15</td>\n",
       "      <td>146</td>\n",
       "      <td>73</td>\n",
       "      <td>58</td>\n",
       "      <td>-6</td>\n",
       "      <td>28</td>\n",
       "      <td>03:33</td>\n",
       "      <td>0</td>\n",
       "      <td>22</td>\n",
       "      <td>POP</td>\n",
       "      <td>213</td>\n",
       "    </tr>\n",
       "  </tbody>\n",
       "</table>\n",
       "</div>"
      ],
      "text/plain": [
       "                 title            artist   release  bpm  energy  danceability  \\\n",
       "0    Don't Let Me Down  The Chainsmokers   5/02/16  160      87            53   \n",
       "1  In the Name of Love     Martin Garrix  29/07/16  134      52            50   \n",
       "2              FRIENDS        Marshmello   9/02/18   95      88            63   \n",
       "3           The Middle              Zedd  23/01/18  107      65            75   \n",
       "4     Never Forget You      Zara Larsson  10/09/15  146      73            58   \n",
       "\n",
       "   loud  valence length  acoustic  popularity style  length_minutes  \n",
       "0    -5       42  03:28        16          84   POP             208  \n",
       "1    -6       17  03:16        11          83   POP             196  \n",
       "2    -2       53  03:23        21          90   POP             203  \n",
       "3    -3       43  03:05        21          54   POP             185  \n",
       "4    -6       28  03:33         0          22   POP             213  "
      ]
     },
     "execution_count": 10,
     "metadata": {},
     "output_type": "execute_result"
    }
   ],
   "source": [
    "sp.head()"
   ]
  },
  {
   "cell_type": "markdown",
   "metadata": {},
   "source": [
    "# 2. Phase d'étude de nos données"
   ]
  },
  {
   "cell_type": "markdown",
   "metadata": {},
   "source": [
    "*****"
   ]
  },
  {
   "cell_type": "markdown",
   "metadata": {},
   "source": [
    "Maintenant que nos données sont dans un format approprié, nous pouvons commencer à en faire une analyse plus approfondie. Pour ce faire, attardons-nous sur chacune de nos colonnes (ou presque). La méthode **describe** nous donnera un bon point de départ."
   ]
  },
  {
   "cell_type": "code",
   "execution_count": 11,
   "metadata": {},
   "outputs": [
    {
     "data": {
      "text/html": [
       "<div>\n",
       "<style scoped>\n",
       "    .dataframe tbody tr th:only-of-type {\n",
       "        vertical-align: middle;\n",
       "    }\n",
       "\n",
       "    .dataframe tbody tr th {\n",
       "        vertical-align: top;\n",
       "    }\n",
       "\n",
       "    .dataframe thead th {\n",
       "        text-align: right;\n",
       "    }\n",
       "</style>\n",
       "<table border=\"1\" class=\"dataframe\">\n",
       "  <thead>\n",
       "    <tr style=\"text-align: right;\">\n",
       "      <th></th>\n",
       "      <th>bpm</th>\n",
       "      <th>energy</th>\n",
       "      <th>danceability</th>\n",
       "      <th>loud</th>\n",
       "      <th>valence</th>\n",
       "      <th>acoustic</th>\n",
       "      <th>popularity</th>\n",
       "      <th>length_minutes</th>\n",
       "    </tr>\n",
       "  </thead>\n",
       "  <tbody>\n",
       "    <tr>\n",
       "      <th>count</th>\n",
       "      <td>671.000000</td>\n",
       "      <td>671.000000</td>\n",
       "      <td>671.000000</td>\n",
       "      <td>671.000000</td>\n",
       "      <td>671.000000</td>\n",
       "      <td>671.000000</td>\n",
       "      <td>671.000000</td>\n",
       "      <td>671.000000</td>\n",
       "    </tr>\n",
       "    <tr>\n",
       "      <th>mean</th>\n",
       "      <td>118.926975</td>\n",
       "      <td>63.529061</td>\n",
       "      <td>58.238450</td>\n",
       "      <td>-7.931446</td>\n",
       "      <td>48.728763</td>\n",
       "      <td>26.265276</td>\n",
       "      <td>56.053651</td>\n",
       "      <td>237.104322</td>\n",
       "    </tr>\n",
       "    <tr>\n",
       "      <th>std</th>\n",
       "      <td>28.451410</td>\n",
       "      <td>24.981163</td>\n",
       "      <td>17.227531</td>\n",
       "      <td>5.008775</td>\n",
       "      <td>25.950833</td>\n",
       "      <td>32.770044</td>\n",
       "      <td>22.342118</td>\n",
       "      <td>88.880355</td>\n",
       "    </tr>\n",
       "    <tr>\n",
       "      <th>min</th>\n",
       "      <td>51.000000</td>\n",
       "      <td>0.000000</td>\n",
       "      <td>8.000000</td>\n",
       "      <td>-31.000000</td>\n",
       "      <td>3.000000</td>\n",
       "      <td>0.000000</td>\n",
       "      <td>1.000000</td>\n",
       "      <td>67.000000</td>\n",
       "    </tr>\n",
       "    <tr>\n",
       "      <th>25%</th>\n",
       "      <td>99.000000</td>\n",
       "      <td>49.000000</td>\n",
       "      <td>46.000000</td>\n",
       "      <td>-9.000000</td>\n",
       "      <td>29.000000</td>\n",
       "      <td>1.000000</td>\n",
       "      <td>42.000000</td>\n",
       "      <td>188.000000</td>\n",
       "    </tr>\n",
       "    <tr>\n",
       "      <th>50%</th>\n",
       "      <td>115.000000</td>\n",
       "      <td>70.000000</td>\n",
       "      <td>60.000000</td>\n",
       "      <td>-6.000000</td>\n",
       "      <td>49.000000</td>\n",
       "      <td>9.000000</td>\n",
       "      <td>59.000000</td>\n",
       "      <td>218.000000</td>\n",
       "    </tr>\n",
       "    <tr>\n",
       "      <th>75%</th>\n",
       "      <td>137.000000</td>\n",
       "      <td>83.000000</td>\n",
       "      <td>71.000000</td>\n",
       "      <td>-5.000000</td>\n",
       "      <td>70.000000</td>\n",
       "      <td>44.000000</td>\n",
       "      <td>73.000000</td>\n",
       "      <td>262.000000</td>\n",
       "    </tr>\n",
       "    <tr>\n",
       "      <th>max</th>\n",
       "      <td>205.000000</td>\n",
       "      <td>99.000000</td>\n",
       "      <td>96.000000</td>\n",
       "      <td>0.000000</td>\n",
       "      <td>97.000000</td>\n",
       "      <td>99.000000</td>\n",
       "      <td>99.000000</td>\n",
       "      <td>1356.000000</td>\n",
       "    </tr>\n",
       "  </tbody>\n",
       "</table>\n",
       "</div>"
      ],
      "text/plain": [
       "              bpm      energy  danceability        loud     valence  \\\n",
       "count  671.000000  671.000000    671.000000  671.000000  671.000000   \n",
       "mean   118.926975   63.529061     58.238450   -7.931446   48.728763   \n",
       "std     28.451410   24.981163     17.227531    5.008775   25.950833   \n",
       "min     51.000000    0.000000      8.000000  -31.000000    3.000000   \n",
       "25%     99.000000   49.000000     46.000000   -9.000000   29.000000   \n",
       "50%    115.000000   70.000000     60.000000   -6.000000   49.000000   \n",
       "75%    137.000000   83.000000     71.000000   -5.000000   70.000000   \n",
       "max    205.000000   99.000000     96.000000    0.000000   97.000000   \n",
       "\n",
       "         acoustic  popularity  length_minutes  \n",
       "count  671.000000  671.000000      671.000000  \n",
       "mean    26.265276   56.053651      237.104322  \n",
       "std     32.770044   22.342118       88.880355  \n",
       "min      0.000000    1.000000       67.000000  \n",
       "25%      1.000000   42.000000      188.000000  \n",
       "50%      9.000000   59.000000      218.000000  \n",
       "75%     44.000000   73.000000      262.000000  \n",
       "max     99.000000   99.000000     1356.000000  "
      ]
     },
     "execution_count": 11,
     "metadata": {},
     "output_type": "execute_result"
    }
   ],
   "source": [
    "sp.describe()"
   ]
  },
  {
   "cell_type": "markdown",
   "metadata": {},
   "source": [
    "## 2.1 Tous les styles"
   ]
  },
  {
   "cell_type": "markdown",
   "metadata": {},
   "source": [
    "### 2.1.1 BPM = le tempo"
   ]
  },
  {
   "cell_type": "code",
   "execution_count": 12,
   "metadata": {},
   "outputs": [],
   "source": [
    "music_bpm_max = sp.iloc[sp['bpm'].idxmax()]\n",
    "music_bpm_min = sp.iloc[sp['bpm'].idxmin()]"
   ]
  },
  {
   "cell_type": "code",
   "execution_count": 13,
   "metadata": {},
   "outputs": [
    {
     "name": "stdout",
     "output_type": "stream",
     "text": [
      "title                      The Choice\n",
      "artist            Gustavo Santaolalla\n",
      "release                       7/06/13\n",
      "bpm                                51\n",
      "energy                              0\n",
      "danceability                       30\n",
      "loud                              -31\n",
      "valence                            35\n",
      "length                          01:42\n",
      "acoustic                           91\n",
      "popularity                         65\n",
      "style                      DEEP FOCUS\n",
      "length_minutes                    102\n",
      "Name: 199, dtype: object\n",
      "title             Gotta Get Funky\n",
      "artist                 Doctorfunk\n",
      "release                  28/10/03\n",
      "bpm                           205\n",
      "energy                         78\n",
      "danceability                   55\n",
      "loud                           -5\n",
      "valence                        93\n",
      "length                      03:36\n",
      "acoustic                        9\n",
      "popularity                     38\n",
      "style                        FUNK\n",
      "length_minutes                216\n",
      "Name: 519, dtype: object\n"
     ]
    }
   ],
   "source": [
    "print(music_bpm_min)\n",
    "print(music_bpm_max)"
   ]
  },
  {
   "cell_type": "markdown",
   "metadata": {},
   "source": [
    "BPM min : <a href='https://www.youtube.com/watch?v=kPk6y6P2lUo'>Youtube : The choice</a>\n",
    "<br>\n",
    "BPM max : <a href='https://www.youtube.com/watch?v=qnu5TlVa1J4'>Youtube : Go get funky</a>"
   ]
  },
  {
   "cell_type": "code",
   "execution_count": 14,
   "metadata": {},
   "outputs": [
    {
     "data": {
      "text/plain": [
       "<matplotlib.axes._subplots.AxesSubplot at 0x1171f3358>"
      ]
     },
     "execution_count": 14,
     "metadata": {},
     "output_type": "execute_result"
    },
    {
     "data": {
      "image/png": "[encoded data removed]",
      "text/plain": [
       "<Figure size 432x288 with 1 Axes>"
      ]
     },
     "metadata": {
      "needs_background": "light"
     },
     "output_type": "display_data"
    }
   ],
   "source": [
    "sp['bpm'].plot.box()"
   ]
  },
  {
   "cell_type": "markdown",
   "metadata": {},
   "source": [
    "### 2.1.2 Energy"
   ]
  },
  {
   "cell_type": "code",
   "execution_count": 15,
   "metadata": {},
   "outputs": [],
   "source": [
    "music_en_max = sp.iloc[sp['energy'].idxmax()]\n",
    "music_en_min = sp.iloc[sp['energy'].idxmin()]"
   ]
  },
  {
   "cell_type": "code",
   "execution_count": 16,
   "metadata": {},
   "outputs": [
    {
     "name": "stdout",
     "output_type": "stream",
     "text": [
      "title                      The Choice\n",
      "artist            Gustavo Santaolalla\n",
      "release                       7/06/13\n",
      "bpm                                51\n",
      "energy                              0\n",
      "danceability                       30\n",
      "loud                              -31\n",
      "valence                            35\n",
      "length                          01:42\n",
      "acoustic                           91\n",
      "popularity                         65\n",
      "style                      DEEP FOCUS\n",
      "length_minutes                    102\n",
      "Name: 199, dtype: object\n",
      "title             East Bay! Oakland Style!\n",
      "artist                      Tower Of Power\n",
      "release                            1/06/18\n",
      "bpm                                    127\n",
      "energy                                  99\n",
      "danceability                            65\n",
      "loud                                    -8\n",
      "valence                                 71\n",
      "length                               01:16\n",
      "acoustic                                 1\n",
      "popularity                              40\n",
      "style                                 FUNK\n",
      "length_minutes                          76\n",
      "Name: 494, dtype: object\n"
     ]
    }
   ],
   "source": [
    "print(music_en_min)\n",
    "print(music_en_max)"
   ]
  },
  {
   "cell_type": "markdown",
   "metadata": {},
   "source": [
    "BPM min : <a href='https://www.youtube.com/watch?v=kPk6y6P2lUo'>Youtube : The choice</a>\n",
    "<br>\n",
    "BPM max : <a href='https://www.youtube.com/watch?v=zXEw-jdlcNc'>Youtube : East Bay! Oakland Style!</a>"
   ]
  },
  {
   "cell_type": "code",
   "execution_count": 17,
   "metadata": {},
   "outputs": [
    {
     "data": {
      "text/plain": [
       "<matplotlib.axes._subplots.AxesSubplot at 0x103c7d0f0>"
      ]
     },
     "execution_count": 17,
     "metadata": {},
     "output_type": "execute_result"
    },
    {
     "data": {
      "image/png": "[encoded data removed]",
      "text/plain": [
       "<Figure size 432x288 with 1 Axes>"
      ]
     },
     "metadata": {
      "needs_background": "light"
     },
     "output_type": "display_data"
    }
   ],
   "source": [
    "sp['energy'].plot.box()"
   ]
  },
  {
   "cell_type": "markdown",
   "metadata": {},
   "source": [
    "### 2.1.3 Loud"
   ]
  },
  {
   "cell_type": "code",
   "execution_count": 18,
   "metadata": {},
   "outputs": [],
   "source": [
    "music_ld_max = sp.iloc[sp['loud'].idxmax()]\n",
    "music_ld_min = sp.iloc[sp['loud'].idxmin()]"
   ]
  },
  {
   "cell_type": "code",
   "execution_count": 19,
   "metadata": {},
   "outputs": [
    {
     "name": "stdout",
     "output_type": "stream",
     "text": [
      "title                      The Choice\n",
      "artist            Gustavo Santaolalla\n",
      "release                       7/06/13\n",
      "bpm                                51\n",
      "energy                              0\n",
      "danceability                       30\n",
      "loud                              -31\n",
      "valence                            35\n",
      "length                          01:42\n",
      "acoustic                           91\n",
      "popularity                         65\n",
      "style                      DEEP FOCUS\n",
      "length_minutes                    102\n",
      "Name: 199, dtype: object\n",
      "title             In For The Kill\n",
      "artist                    La Roux\n",
      "release                      2009\n",
      "bpm                           150\n",
      "energy                         97\n",
      "danceability                   61\n",
      "loud                            0\n",
      "valence                        94\n",
      "length                      04:09\n",
      "acoustic                        0\n",
      "popularity                     59\n",
      "style                   DECENNIES\n",
      "length_minutes                249\n",
      "Name: 623, dtype: object\n"
     ]
    }
   ],
   "source": [
    "print(music_ld_min)\n",
    "print(music_ld_max)"
   ]
  },
  {
   "cell_type": "markdown",
   "metadata": {},
   "source": [
    "BPM min : <a href='https://www.youtube.com/watch?v=kPk6y6P2lUo'>Youtube : The choice</a>\n",
    "<br>\n",
    "BPM max : <a href='https://www.youtube.com/watch?v=tXtATeQ7GKg'>Youtube : In for the Kill</a>"
   ]
  },
  {
   "cell_type": "code",
   "execution_count": 20,
   "metadata": {
    "scrolled": true
   },
   "outputs": [
    {
     "data": {
      "text/plain": [
       "<matplotlib.axes._subplots.AxesSubplot at 0x11925c550>"
      ]
     },
     "execution_count": 20,
     "metadata": {},
     "output_type": "execute_result"
    },
    {
     "data": {
      "image/png": "[encoded data removed]",
      "text/plain": [
       "<Figure size 432x288 with 1 Axes>"
      ]
     },
     "metadata": {
      "needs_background": "light"
     },
     "output_type": "display_data"
    }
   ],
   "source": [
    "sp['loud'].plot.box()"
   ]
  },
  {
   "cell_type": "markdown",
   "metadata": {},
   "source": [
    "Note : on peut remarquer la présence de plusieurs **outliers** ici. Nous verrons plus tard s'il faut les supprimer ou non."
   ]
  },
  {
   "cell_type": "markdown",
   "metadata": {},
   "source": [
    "### 2.1.4 Valence"
   ]
  },
  {
   "cell_type": "code",
   "execution_count": 21,
   "metadata": {},
   "outputs": [],
   "source": [
    "music_ve_max = sp.iloc[sp['valence'].idxmax()]\n",
    "music_ve_min = sp.iloc[sp['valence'].idxmin()]"
   ]
  },
  {
   "cell_type": "code",
   "execution_count": 22,
   "metadata": {},
   "outputs": [
    {
     "name": "stdout",
     "output_type": "stream",
     "text": [
      "title                      Fallen\n",
      "artist            Elise Magnefold\n",
      "release                  18/10/17\n",
      "bpm                           100\n",
      "energy                         11\n",
      "danceability                   54\n",
      "loud                          -22\n",
      "valence                         3\n",
      "length                      04:38\n",
      "acoustic                       98\n",
      "popularity                     63\n",
      "style                  DEEP FOCUS\n",
      "length_minutes                278\n",
      "Name: 210, dtype: object\n",
      "title                     Wannabe in LA\n",
      "artist            Eagles Of Death Metal\n",
      "release                        28/10/08\n",
      "bpm                                 159\n",
      "energy                               95\n",
      "danceability                         63\n",
      "loud                                 -4\n",
      "valence                              97\n",
      "length                            02:16\n",
      "acoustic                             28\n",
      "popularity                            1\n",
      "style                              ROCK\n",
      "length_minutes                      136\n",
      "Name: 186, dtype: object\n"
     ]
    }
   ],
   "source": [
    "print(music_ve_min)\n",
    "print(music_ve_max)"
   ]
  },
  {
   "cell_type": "markdown",
   "metadata": {},
   "source": [
    "BPM min : pas de lien Youtube\n",
    "<br>\n",
    "BPM max : <a href='https://www.youtube.com/watch?v=xj3kTdx1QBw'>Youtube : Wannbe in LA</a>"
   ]
  },
  {
   "cell_type": "code",
   "execution_count": 23,
   "metadata": {},
   "outputs": [
    {
     "data": {
      "text/plain": [
       "<matplotlib.axes._subplots.AxesSubplot at 0x11938ada0>"
      ]
     },
     "execution_count": 23,
     "metadata": {},
     "output_type": "execute_result"
    },
    {
     "data": {
      "image/png": "[encoded data removed]",
      "text/plain": [
       "<Figure size 432x288 with 1 Axes>"
      ]
     },
     "metadata": {
      "needs_background": "light"
     },
     "output_type": "display_data"
    }
   ],
   "source": [
    "sp['valence'].plot.box()"
   ]
  },
  {
   "cell_type": "markdown",
   "metadata": {},
   "source": [
    "### 2.1.5 Acoustic"
   ]
  },
  {
   "cell_type": "code",
   "execution_count": 24,
   "metadata": {},
   "outputs": [],
   "source": [
    "music_ac_max = sp.iloc[sp['acoustic'].idxmax()]\n",
    "music_ac_min = sp.iloc[sp['acoustic'].idxmin()]"
   ]
  },
  {
   "cell_type": "code",
   "execution_count": 25,
   "metadata": {},
   "outputs": [
    {
     "name": "stdout",
     "output_type": "stream",
     "text": [
      "title             Never Forget You\n",
      "artist                Zara Larsson\n",
      "release                   10/09/15\n",
      "bpm                            146\n",
      "energy                          73\n",
      "danceability                    58\n",
      "loud                            -6\n",
      "valence                         28\n",
      "length                       03:33\n",
      "acoustic                         0\n",
      "popularity                      22\n",
      "style                          POP\n",
      "length_minutes                 213\n",
      "Name: 4, dtype: object\n",
      "title                 Fusion\n",
      "artist            Eroded Sky\n",
      "release             10/11/17\n",
      "bpm                      120\n",
      "energy                    14\n",
      "danceability              55\n",
      "loud                     -17\n",
      "valence                   10\n",
      "length                 03:48\n",
      "acoustic                  99\n",
      "popularity                67\n",
      "style             DEEP FOCUS\n",
      "length_minutes           228\n",
      "Name: 195, dtype: object\n"
     ]
    }
   ],
   "source": [
    "print(music_ac_min)\n",
    "print(music_ac_max)"
   ]
  },
  {
   "cell_type": "markdown",
   "metadata": {},
   "source": [
    "BPM min : <a href='https://www.youtube.com/watch?v=GTyN-DB_v5M'>Youtube : Never Forget You</a>\n",
    "<br>\n",
    "BPM max : <a href='https://www.youtube.com/watch?v=KYZjvMmKqmw'>Youtube : Fusion</a>"
   ]
  },
  {
   "cell_type": "code",
   "execution_count": 26,
   "metadata": {},
   "outputs": [
    {
     "data": {
      "text/plain": [
       "<matplotlib.axes._subplots.AxesSubplot at 0x1193e57f0>"
      ]
     },
     "execution_count": 26,
     "metadata": {},
     "output_type": "execute_result"
    },
    {
     "data": {
      "image/png": "[encoded data removed]",
      "text/plain": [
       "<Figure size 432x288 with 1 Axes>"
      ]
     },
     "metadata": {
      "needs_background": "light"
     },
     "output_type": "display_data"
    }
   ],
   "source": [
    "sp['acoustic'].plot.box()"
   ]
  },
  {
   "cell_type": "markdown",
   "metadata": {},
   "source": [
    "### 2.1.6 Danceability"
   ]
  },
  {
   "cell_type": "code",
   "execution_count": 27,
   "metadata": {},
   "outputs": [],
   "source": [
    "music_dy_max = sp.iloc[sp['danceability'].idxmax()]\n",
    "music_dy_min = sp.iloc[sp['danceability'].idxmin()]"
   ]
  },
  {
   "cell_type": "code",
   "execution_count": 28,
   "metadata": {},
   "outputs": [
    {
     "name": "stdout",
     "output_type": "stream",
     "text": [
      "title                    Glaciers\n",
      "artist            Lights & Motion\n",
      "release                   2/02/18\n",
      "bpm                            56\n",
      "energy                         16\n",
      "danceability                    8\n",
      "loud                          -18\n",
      "valence                         4\n",
      "length                      02:56\n",
      "acoustic                       73\n",
      "popularity                     65\n",
      "style                  DEEP FOCUS\n",
      "length_minutes                176\n",
      "Name: 193, dtype: object\n",
      "title             Get Dripped (feat. Playboi Carti)\n",
      "artist                                   Lil Yachty\n",
      "release                                    19/10/18\n",
      "bpm                                             130\n",
      "energy                                           49\n",
      "danceability                                     96\n",
      "loud                                             -8\n",
      "valence                                          90\n",
      "length                                        02:39\n",
      "acoustic                                         10\n",
      "popularity                                       69\n",
      "style                                           RAP\n",
      "length_minutes                                  159\n",
      "Name: 300, dtype: object\n"
     ]
    }
   ],
   "source": [
    "print(music_dy_min)\n",
    "print(music_dy_max)"
   ]
  },
  {
   "cell_type": "markdown",
   "metadata": {},
   "source": [
    "BPM min : <a href='https://www.youtube.com/watch?v=TX3Zr5RX1ug'>Youtube : Glaciers</a>\n",
    "<br>\n",
    "BPM max : <a href='https://www.youtube.com/watch?v=PtPAu17Vw_I'>Youtube : Get Dripped</a>"
   ]
  },
  {
   "cell_type": "code",
   "execution_count": 29,
   "metadata": {},
   "outputs": [
    {
     "data": {
      "text/plain": [
       "<matplotlib.axes._subplots.AxesSubplot at 0x1192506a0>"
      ]
     },
     "execution_count": 29,
     "metadata": {},
     "output_type": "execute_result"
    },
    {
     "data": {
      "image/png": "[encoded data removed]",
      "text/plain": [
       "<Figure size 432x288 with 1 Axes>"
      ]
     },
     "metadata": {
      "needs_background": "light"
     },
     "output_type": "display_data"
    }
   ],
   "source": [
    "sp['danceability'].plot.box()"
   ]
  },
  {
   "cell_type": "markdown",
   "metadata": {},
   "source": [
    "## 2.2 Les corrélations"
   ]
  },
  {
   "cell_type": "markdown",
   "metadata": {},
   "source": [
    "Nous pouvons observer les différentes corrélations entre *danceability* et les autres :"
   ]
  },
  {
   "cell_type": "code",
   "execution_count": 30,
   "metadata": {},
   "outputs": [
    {
     "data": {
      "text/plain": [
       "bpm              -0.044197\n",
       "energy            0.290425\n",
       "danceability      1.000000\n",
       "loud              0.410181\n",
       "valence           0.546807\n",
       "acoustic         -0.312721\n",
       "popularity        0.187963\n",
       "length_minutes   -0.121361\n",
       "Name: danceability, dtype: float64"
      ]
     },
     "execution_count": 30,
     "metadata": {},
     "output_type": "execute_result"
    }
   ],
   "source": [
    "sp.corr()['danceability']"
   ]
  },
  {
   "cell_type": "markdown",
   "metadata": {},
   "source": [
    "Tout ceci n'est pas très visuel. Arrangeons cela grâce à seaborn :"
   ]
  },
  {
   "cell_type": "code",
   "execution_count": 31,
   "metadata": {},
   "outputs": [
    {
     "data": {
      "text/plain": [
       "<matplotlib.axes._subplots.AxesSubplot at 0x119583fd0>"
      ]
     },
     "execution_count": 31,
     "metadata": {},
     "output_type": "execute_result"
    },
    {
     "data": {
      "image/png": "[encoded data removed]",
      "text/plain": [
       "<Figure size 432x288 with 2 Axes>"
      ]
     },
     "metadata": {
      "needs_background": "light"
     },
     "output_type": "display_data"
    }
   ],
   "source": [
    "sns.heatmap(sp.corr())"
   ]
  },
  {
   "cell_type": "markdown",
   "metadata": {},
   "source": [
    "Les points les plus clairs indiquent les endroits les plus corrélés. En nous concentrant exclusivement vers *danceability*, quelques éléments ressortent du lot : **energy, loud et valence**. D'ailleurs, sauvegardons-les dans une variable appelée **features**."
   ]
  },
  {
   "cell_type": "code",
   "execution_count": 32,
   "metadata": {},
   "outputs": [],
   "source": [
    "features = ['energy', 'loud', 'valence']"
   ]
  },
  {
   "cell_type": "markdown",
   "metadata": {},
   "source": [
    "## 2.3 Les outliers de loud"
   ]
  },
  {
   "cell_type": "markdown",
   "metadata": {},
   "source": [
    "Comme nous l'avons précédemment vu, *loud* est constitué de plusieurs outliers. Maintenant, que faut-il en faire ?"
   ]
  },
  {
   "cell_type": "markdown",
   "metadata": {},
   "source": [
    "Par principe, il ne faut ni les altérer ni les supprimer. S'il s'agissait d'outliers où nous sommes persuadés qu'ils sont dus à une erreur (humaine par exemple), alors, nous aurions pu les supprimer. Les outliers de loud ne doivent pas être retirés car ce ne sont pas des erreurs. Ainsi, nous allons les laisser comme tels."
   ]
  },
  {
   "cell_type": "markdown",
   "metadata": {},
   "source": [
    "## 2.4 Scaling"
   ]
  },
  {
   "cell_type": "markdown",
   "metadata": {},
   "source": [
    "N'oublions pas de normaliser nos features :"
   ]
  },
  {
   "cell_type": "code",
   "execution_count": 33,
   "metadata": {},
   "outputs": [],
   "source": [
    "for feature in features:\n",
    "    # normalisation\n",
    "    sp['f_' + feature] = (sp[feature] - sp[feature].min()) / (sp[feature].max() - sp[feature].min())\n",
    "    # standardisation\n",
    "    #sp['f_' + feature] = (sp[feature] - sp[feature].mean()) / sp[feature].std()\n",
    "    # no scaling\n",
    "    #sp['f_' + feature] = sp[feature]"
   ]
  },
  {
   "cell_type": "code",
   "execution_count": 34,
   "metadata": {},
   "outputs": [
    {
     "data": {
      "text/html": [
       "<div>\n",
       "<style scoped>\n",
       "    .dataframe tbody tr th:only-of-type {\n",
       "        vertical-align: middle;\n",
       "    }\n",
       "\n",
       "    .dataframe tbody tr th {\n",
       "        vertical-align: top;\n",
       "    }\n",
       "\n",
       "    .dataframe thead th {\n",
       "        text-align: right;\n",
       "    }\n",
       "</style>\n",
       "<table border=\"1\" class=\"dataframe\">\n",
       "  <thead>\n",
       "    <tr style=\"text-align: right;\">\n",
       "      <th></th>\n",
       "      <th>title</th>\n",
       "      <th>artist</th>\n",
       "      <th>release</th>\n",
       "      <th>bpm</th>\n",
       "      <th>energy</th>\n",
       "      <th>danceability</th>\n",
       "      <th>loud</th>\n",
       "      <th>valence</th>\n",
       "      <th>length</th>\n",
       "      <th>acoustic</th>\n",
       "      <th>popularity</th>\n",
       "      <th>style</th>\n",
       "      <th>length_minutes</th>\n",
       "      <th>f_energy</th>\n",
       "      <th>f_loud</th>\n",
       "      <th>f_valence</th>\n",
       "    </tr>\n",
       "  </thead>\n",
       "  <tbody>\n",
       "    <tr>\n",
       "      <th>0</th>\n",
       "      <td>Don't Let Me Down</td>\n",
       "      <td>The Chainsmokers</td>\n",
       "      <td>5/02/16</td>\n",
       "      <td>160</td>\n",
       "      <td>87</td>\n",
       "      <td>53</td>\n",
       "      <td>-5</td>\n",
       "      <td>42</td>\n",
       "      <td>03:28</td>\n",
       "      <td>16</td>\n",
       "      <td>84</td>\n",
       "      <td>POP</td>\n",
       "      <td>208</td>\n",
       "      <td>0.878788</td>\n",
       "      <td>0.838710</td>\n",
       "      <td>0.414894</td>\n",
       "    </tr>\n",
       "    <tr>\n",
       "      <th>1</th>\n",
       "      <td>In the Name of Love</td>\n",
       "      <td>Martin Garrix</td>\n",
       "      <td>29/07/16</td>\n",
       "      <td>134</td>\n",
       "      <td>52</td>\n",
       "      <td>50</td>\n",
       "      <td>-6</td>\n",
       "      <td>17</td>\n",
       "      <td>03:16</td>\n",
       "      <td>11</td>\n",
       "      <td>83</td>\n",
       "      <td>POP</td>\n",
       "      <td>196</td>\n",
       "      <td>0.525253</td>\n",
       "      <td>0.806452</td>\n",
       "      <td>0.148936</td>\n",
       "    </tr>\n",
       "    <tr>\n",
       "      <th>2</th>\n",
       "      <td>FRIENDS</td>\n",
       "      <td>Marshmello</td>\n",
       "      <td>9/02/18</td>\n",
       "      <td>95</td>\n",
       "      <td>88</td>\n",
       "      <td>63</td>\n",
       "      <td>-2</td>\n",
       "      <td>53</td>\n",
       "      <td>03:23</td>\n",
       "      <td>21</td>\n",
       "      <td>90</td>\n",
       "      <td>POP</td>\n",
       "      <td>203</td>\n",
       "      <td>0.888889</td>\n",
       "      <td>0.935484</td>\n",
       "      <td>0.531915</td>\n",
       "    </tr>\n",
       "    <tr>\n",
       "      <th>3</th>\n",
       "      <td>The Middle</td>\n",
       "      <td>Zedd</td>\n",
       "      <td>23/01/18</td>\n",
       "      <td>107</td>\n",
       "      <td>65</td>\n",
       "      <td>75</td>\n",
       "      <td>-3</td>\n",
       "      <td>43</td>\n",
       "      <td>03:05</td>\n",
       "      <td>21</td>\n",
       "      <td>54</td>\n",
       "      <td>POP</td>\n",
       "      <td>185</td>\n",
       "      <td>0.656566</td>\n",
       "      <td>0.903226</td>\n",
       "      <td>0.425532</td>\n",
       "    </tr>\n",
       "    <tr>\n",
       "      <th>4</th>\n",
       "      <td>Never Forget You</td>\n",
       "      <td>Zara Larsson</td>\n",
       "      <td>10/09/15</td>\n",
       "      <td>146</td>\n",
       "      <td>73</td>\n",
       "      <td>58</td>\n",
       "      <td>-6</td>\n",
       "      <td>28</td>\n",
       "      <td>03:33</td>\n",
       "      <td>0</td>\n",
       "      <td>22</td>\n",
       "      <td>POP</td>\n",
       "      <td>213</td>\n",
       "      <td>0.737374</td>\n",
       "      <td>0.806452</td>\n",
       "      <td>0.265957</td>\n",
       "    </tr>\n",
       "  </tbody>\n",
       "</table>\n",
       "</div>"
      ],
      "text/plain": [
       "                 title            artist   release  bpm  energy  danceability  \\\n",
       "0    Don't Let Me Down  The Chainsmokers   5/02/16  160      87            53   \n",
       "1  In the Name of Love     Martin Garrix  29/07/16  134      52            50   \n",
       "2              FRIENDS        Marshmello   9/02/18   95      88            63   \n",
       "3           The Middle              Zedd  23/01/18  107      65            75   \n",
       "4     Never Forget You      Zara Larsson  10/09/15  146      73            58   \n",
       "\n",
       "   loud  valence length  acoustic  popularity style  length_minutes  f_energy  \\\n",
       "0    -5       42  03:28        16          84   POP             208  0.878788   \n",
       "1    -6       17  03:16        11          83   POP             196  0.525253   \n",
       "2    -2       53  03:23        21          90   POP             203  0.888889   \n",
       "3    -3       43  03:05        21          54   POP             185  0.656566   \n",
       "4    -6       28  03:33         0          22   POP             213  0.737374   \n",
       "\n",
       "     f_loud  f_valence  \n",
       "0  0.838710   0.414894  \n",
       "1  0.806452   0.148936  \n",
       "2  0.935484   0.531915  \n",
       "3  0.903226   0.425532  \n",
       "4  0.806452   0.265957  "
      ]
     },
     "execution_count": 34,
     "metadata": {},
     "output_type": "execute_result"
    }
   ],
   "source": [
    "sp.head()"
   ]
  },
  {
   "cell_type": "markdown",
   "metadata": {},
   "source": [
    "Modifions les noms de nos features :"
   ]
  },
  {
   "cell_type": "code",
   "execution_count": 35,
   "metadata": {},
   "outputs": [],
   "source": [
    "features = list(map(lambda f: 'f_' + f, features))"
   ]
  },
  {
   "cell_type": "code",
   "execution_count": 36,
   "metadata": {},
   "outputs": [
    {
     "data": {
      "text/plain": [
       "['f_energy', 'f_loud', 'f_valence']"
      ]
     },
     "execution_count": 36,
     "metadata": {},
     "output_type": "execute_result"
    }
   ],
   "source": [
    "features"
   ]
  },
  {
   "cell_type": "markdown",
   "metadata": {},
   "source": [
    "# 3. Phase de construction de notre modèle"
   ]
  },
  {
   "cell_type": "markdown",
   "metadata": {},
   "source": [
    "***"
   ]
  },
  {
   "cell_type": "markdown",
   "metadata": {},
   "source": [
    "## 3.1 Avant la construction"
   ]
  },
  {
   "cell_type": "markdown",
   "metadata": {},
   "source": [
    "### 3.1.1 Que cherchons-nous ?"
   ]
  },
  {
   "cell_type": "markdown",
   "metadata": {},
   "source": [
    "Nous cherchons à trouver le score de *danceability* d'une chanson à travers ses attributs : **energy, loud et valence**. Toutefois, nous commencerons à prédire ce score en utilisant uniquement **l'energy**."
   ]
  },
  {
   "cell_type": "markdown",
   "metadata": {},
   "source": [
    "Pour faire nos tests, nous utiliserons ces données ([40, -10, 50] = **l'energy, loud puis valence**) :"
   ]
  },
  {
   "cell_type": "code",
   "execution_count": 37,
   "metadata": {},
   "outputs": [],
   "source": [
    "music_for_test = pd.DataFrame([[0.7, 0.5, 1]], columns = ['f_energy', 'f_loud', 'f_valence']).iloc[0]"
   ]
  },
  {
   "cell_type": "code",
   "execution_count": 38,
   "metadata": {},
   "outputs": [
    {
     "data": {
      "text/plain": [
       "f_energy     0.7\n",
       "f_loud       0.5\n",
       "f_valence    1.0\n",
       "Name: 0, dtype: float64"
      ]
     },
     "execution_count": 38,
     "metadata": {},
     "output_type": "execute_result"
    }
   ],
   "source": [
    "music_for_test"
   ]
  },
  {
   "cell_type": "markdown",
   "metadata": {},
   "source": [
    "### 3.1.2 Procédure de la mise en place de l'agorithme du K-Nearest Neighbor"
   ]
  },
  {
   "cell_type": "markdown",
   "metadata": {},
   "source": [
    "1. Nous devons choisir nos données sur lesquelles nous allons effectuer notre prédiction.\n",
    "2. Il faut calculer la distance entre tous nos éléments. \n",
    "2. Il faut trier nos données par ordre croissant de nos distances.\n",
    "3. On sélectionne les K plus proches voisins (le K est spécifié au début de l'algorithme).\n",
    "4. Soit on fait la moyenne (si notre y est une variable continue/entière) soit on prend le mode (si notre y est une variable nominale)."
   ]
  },
  {
   "cell_type": "markdown",
   "metadata": {},
   "source": [
    "## 3.2 Construction du modèle"
   ]
  },
  {
   "cell_type": "markdown",
   "metadata": {},
   "source": [
    "Nous cherchons donc un score de *danceability*. Stockons cela dans une variable **target**."
   ]
  },
  {
   "cell_type": "code",
   "execution_count": 39,
   "metadata": {},
   "outputs": [],
   "source": [
    "target = 'danceability'"
   ]
  },
  {
   "cell_type": "markdown",
   "metadata": {},
   "source": [
    "### 3.2.1 Prédiction via un paramètre (soit energy)"
   ]
  },
  {
   "cell_type": "markdown",
   "metadata": {},
   "source": [
    "Nous utiliserons **l'energy** pour essayer de prédire le score. Sauvegardons cela dans une variable **mono_feature**"
   ]
  },
  {
   "cell_type": "code",
   "execution_count": 40,
   "metadata": {},
   "outputs": [],
   "source": [
    "mono_feature = 'f_energy'"
   ]
  },
  {
   "cell_type": "markdown",
   "metadata": {},
   "source": [
    "#### 3.2.1.1 Calcul des distances"
   ]
  },
  {
   "cell_type": "markdown",
   "metadata": {},
   "source": [
    "Calculons nos distances en créant une fonction :"
   ]
  },
  {
   "cell_type": "code",
   "execution_count": 41,
   "metadata": {},
   "outputs": [],
   "source": [
    "def distance_bt_energy_musics(energy_1, energy_2):\n",
    "    return sqrt(((energy_1 - energy_2) ** 2))"
   ]
  },
  {
   "cell_type": "markdown",
   "metadata": {},
   "source": [
    "Exemple d'utilisation :"
   ]
  },
  {
   "cell_type": "code",
   "execution_count": 42,
   "metadata": {},
   "outputs": [],
   "source": [
    "# la méthode sample sur une DataFrame nous donne un échantillon de nos données\n",
    "# ici, nous lui demandons de nous renvoyer un échantillon composé d'une unité\n",
    "random_music = sp.sample(1, random_state = 1).iloc[0]"
   ]
  },
  {
   "cell_type": "code",
   "execution_count": 43,
   "metadata": {},
   "outputs": [
    {
     "data": {
      "text/plain": [
       "title             Facing My Fear\n",
       "artist                    Cortes\n",
       "release                 29/10/16\n",
       "bpm                          168\n",
       "energy                        81\n",
       "danceability                  41\n",
       "loud                          -3\n",
       "valence                       64\n",
       "length                     03:22\n",
       "acoustic                       0\n",
       "popularity                     2\n",
       "style                       ROCK\n",
       "length_minutes               202\n",
       "f_energy                0.818182\n",
       "f_loud                  0.903226\n",
       "f_valence               0.648936\n",
       "Name: 107, dtype: object"
      ]
     },
     "execution_count": 43,
     "metadata": {},
     "output_type": "execute_result"
    }
   ],
   "source": [
    "random_music"
   ]
  },
  {
   "cell_type": "code",
   "execution_count": 44,
   "metadata": {},
   "outputs": [
    {
     "data": {
      "text/plain": [
       "0.11818181818181828"
      ]
     },
     "execution_count": 44,
     "metadata": {},
     "output_type": "execute_result"
    }
   ],
   "source": [
    "distance_bt_energy_musics(random_music[mono_feature], music_for_test[mono_feature])"
   ]
  },
  {
   "cell_type": "markdown",
   "metadata": {},
   "source": [
    "Le distance entre la musique aléatoire et la nôtre est de 0.11."
   ]
  },
  {
   "cell_type": "markdown",
   "metadata": {},
   "source": [
    "Maintenant, créons une nouvelle colonne **distance_energy** tout en faisant une copie de notre DataFrame :"
   ]
  },
  {
   "cell_type": "code",
   "execution_count": 45,
   "metadata": {},
   "outputs": [],
   "source": [
    "e_music_test = music_for_test[mono_feature]\n",
    "sp_dt_energy = sp.copy()\n",
    "sp_dt_energy['distance_energy'] = sp_dt_energy['f_energy'].apply(lambda e: distance_bt_energy_musics(e, e_music_test))"
   ]
  },
  {
   "cell_type": "code",
   "execution_count": 46,
   "metadata": {},
   "outputs": [
    {
     "data": {
      "text/html": [
       "<div>\n",
       "<style scoped>\n",
       "    .dataframe tbody tr th:only-of-type {\n",
       "        vertical-align: middle;\n",
       "    }\n",
       "\n",
       "    .dataframe tbody tr th {\n",
       "        vertical-align: top;\n",
       "    }\n",
       "\n",
       "    .dataframe thead th {\n",
       "        text-align: right;\n",
       "    }\n",
       "</style>\n",
       "<table border=\"1\" class=\"dataframe\">\n",
       "  <thead>\n",
       "    <tr style=\"text-align: right;\">\n",
       "      <th></th>\n",
       "      <th>title</th>\n",
       "      <th>artist</th>\n",
       "      <th>release</th>\n",
       "      <th>bpm</th>\n",
       "      <th>energy</th>\n",
       "      <th>danceability</th>\n",
       "      <th>loud</th>\n",
       "      <th>valence</th>\n",
       "      <th>length</th>\n",
       "      <th>acoustic</th>\n",
       "      <th>popularity</th>\n",
       "      <th>style</th>\n",
       "      <th>length_minutes</th>\n",
       "      <th>f_energy</th>\n",
       "      <th>f_loud</th>\n",
       "      <th>f_valence</th>\n",
       "      <th>distance_energy</th>\n",
       "    </tr>\n",
       "  </thead>\n",
       "  <tbody>\n",
       "    <tr>\n",
       "      <th>0</th>\n",
       "      <td>Don't Let Me Down</td>\n",
       "      <td>The Chainsmokers</td>\n",
       "      <td>5/02/16</td>\n",
       "      <td>160</td>\n",
       "      <td>87</td>\n",
       "      <td>53</td>\n",
       "      <td>-5</td>\n",
       "      <td>42</td>\n",
       "      <td>03:28</td>\n",
       "      <td>16</td>\n",
       "      <td>84</td>\n",
       "      <td>POP</td>\n",
       "      <td>208</td>\n",
       "      <td>0.878788</td>\n",
       "      <td>0.838710</td>\n",
       "      <td>0.414894</td>\n",
       "      <td>0.178788</td>\n",
       "    </tr>\n",
       "    <tr>\n",
       "      <th>1</th>\n",
       "      <td>In the Name of Love</td>\n",
       "      <td>Martin Garrix</td>\n",
       "      <td>29/07/16</td>\n",
       "      <td>134</td>\n",
       "      <td>52</td>\n",
       "      <td>50</td>\n",
       "      <td>-6</td>\n",
       "      <td>17</td>\n",
       "      <td>03:16</td>\n",
       "      <td>11</td>\n",
       "      <td>83</td>\n",
       "      <td>POP</td>\n",
       "      <td>196</td>\n",
       "      <td>0.525253</td>\n",
       "      <td>0.806452</td>\n",
       "      <td>0.148936</td>\n",
       "      <td>0.174747</td>\n",
       "    </tr>\n",
       "    <tr>\n",
       "      <th>2</th>\n",
       "      <td>FRIENDS</td>\n",
       "      <td>Marshmello</td>\n",
       "      <td>9/02/18</td>\n",
       "      <td>95</td>\n",
       "      <td>88</td>\n",
       "      <td>63</td>\n",
       "      <td>-2</td>\n",
       "      <td>53</td>\n",
       "      <td>03:23</td>\n",
       "      <td>21</td>\n",
       "      <td>90</td>\n",
       "      <td>POP</td>\n",
       "      <td>203</td>\n",
       "      <td>0.888889</td>\n",
       "      <td>0.935484</td>\n",
       "      <td>0.531915</td>\n",
       "      <td>0.188889</td>\n",
       "    </tr>\n",
       "    <tr>\n",
       "      <th>3</th>\n",
       "      <td>The Middle</td>\n",
       "      <td>Zedd</td>\n",
       "      <td>23/01/18</td>\n",
       "      <td>107</td>\n",
       "      <td>65</td>\n",
       "      <td>75</td>\n",
       "      <td>-3</td>\n",
       "      <td>43</td>\n",
       "      <td>03:05</td>\n",
       "      <td>21</td>\n",
       "      <td>54</td>\n",
       "      <td>POP</td>\n",
       "      <td>185</td>\n",
       "      <td>0.656566</td>\n",
       "      <td>0.903226</td>\n",
       "      <td>0.425532</td>\n",
       "      <td>0.043434</td>\n",
       "    </tr>\n",
       "    <tr>\n",
       "      <th>4</th>\n",
       "      <td>Never Forget You</td>\n",
       "      <td>Zara Larsson</td>\n",
       "      <td>10/09/15</td>\n",
       "      <td>146</td>\n",
       "      <td>73</td>\n",
       "      <td>58</td>\n",
       "      <td>-6</td>\n",
       "      <td>28</td>\n",
       "      <td>03:33</td>\n",
       "      <td>0</td>\n",
       "      <td>22</td>\n",
       "      <td>POP</td>\n",
       "      <td>213</td>\n",
       "      <td>0.737374</td>\n",
       "      <td>0.806452</td>\n",
       "      <td>0.265957</td>\n",
       "      <td>0.037374</td>\n",
       "    </tr>\n",
       "  </tbody>\n",
       "</table>\n",
       "</div>"
      ],
      "text/plain": [
       "                 title            artist   release  bpm  energy  danceability  \\\n",
       "0    Don't Let Me Down  The Chainsmokers   5/02/16  160      87            53   \n",
       "1  In the Name of Love     Martin Garrix  29/07/16  134      52            50   \n",
       "2              FRIENDS        Marshmello   9/02/18   95      88            63   \n",
       "3           The Middle              Zedd  23/01/18  107      65            75   \n",
       "4     Never Forget You      Zara Larsson  10/09/15  146      73            58   \n",
       "\n",
       "   loud  valence length  acoustic  popularity style  length_minutes  f_energy  \\\n",
       "0    -5       42  03:28        16          84   POP             208  0.878788   \n",
       "1    -6       17  03:16        11          83   POP             196  0.525253   \n",
       "2    -2       53  03:23        21          90   POP             203  0.888889   \n",
       "3    -3       43  03:05        21          54   POP             185  0.656566   \n",
       "4    -6       28  03:33         0          22   POP             213  0.737374   \n",
       "\n",
       "     f_loud  f_valence  distance_energy  \n",
       "0  0.838710   0.414894         0.178788  \n",
       "1  0.806452   0.148936         0.174747  \n",
       "2  0.935484   0.531915         0.188889  \n",
       "3  0.903226   0.425532         0.043434  \n",
       "4  0.806452   0.265957         0.037374  "
      ]
     },
     "execution_count": 46,
     "metadata": {},
     "output_type": "execute_result"
    }
   ],
   "source": [
    "sp_dt_energy.head()"
   ]
  },
  {
   "cell_type": "markdown",
   "metadata": {},
   "source": [
    "#### 3.2.1.2 Trier par ordre croissant de distance"
   ]
  },
  {
   "cell_type": "code",
   "execution_count": 47,
   "metadata": {},
   "outputs": [],
   "source": [
    "sorted_sp_dt_energy = sp_dt_energy.sort_values(by = 'distance_energy')"
   ]
  },
  {
   "cell_type": "code",
   "execution_count": 48,
   "metadata": {},
   "outputs": [
    {
     "data": {
      "text/html": [
       "<div>\n",
       "<style scoped>\n",
       "    .dataframe tbody tr th:only-of-type {\n",
       "        vertical-align: middle;\n",
       "    }\n",
       "\n",
       "    .dataframe tbody tr th {\n",
       "        vertical-align: top;\n",
       "    }\n",
       "\n",
       "    .dataframe thead th {\n",
       "        text-align: right;\n",
       "    }\n",
       "</style>\n",
       "<table border=\"1\" class=\"dataframe\">\n",
       "  <thead>\n",
       "    <tr style=\"text-align: right;\">\n",
       "      <th></th>\n",
       "      <th>title</th>\n",
       "      <th>artist</th>\n",
       "      <th>release</th>\n",
       "      <th>bpm</th>\n",
       "      <th>energy</th>\n",
       "      <th>danceability</th>\n",
       "      <th>loud</th>\n",
       "      <th>valence</th>\n",
       "      <th>length</th>\n",
       "      <th>acoustic</th>\n",
       "      <th>popularity</th>\n",
       "      <th>style</th>\n",
       "      <th>length_minutes</th>\n",
       "      <th>f_energy</th>\n",
       "      <th>f_loud</th>\n",
       "      <th>f_valence</th>\n",
       "      <th>distance_energy</th>\n",
       "    </tr>\n",
       "  </thead>\n",
       "  <tbody>\n",
       "    <tr>\n",
       "      <th>576</th>\n",
       "      <td>Clint Eastwood</td>\n",
       "      <td>Gorillaz</td>\n",
       "      <td>26/03/01</td>\n",
       "      <td>168</td>\n",
       "      <td>69</td>\n",
       "      <td>66</td>\n",
       "      <td>-9</td>\n",
       "      <td>52</td>\n",
       "      <td>05:41</td>\n",
       "      <td>2</td>\n",
       "      <td>76</td>\n",
       "      <td>DECENNIES</td>\n",
       "      <td>341</td>\n",
       "      <td>0.696970</td>\n",
       "      <td>0.709677</td>\n",
       "      <td>0.521277</td>\n",
       "      <td>0.003030</td>\n",
       "    </tr>\n",
       "    <tr>\n",
       "      <th>477</th>\n",
       "      <td>Stuff</td>\n",
       "      <td>Kyle Hollingsworth</td>\n",
       "      <td>23/02/18</td>\n",
       "      <td>90</td>\n",
       "      <td>69</td>\n",
       "      <td>73</td>\n",
       "      <td>-6</td>\n",
       "      <td>69</td>\n",
       "      <td>04:47</td>\n",
       "      <td>6</td>\n",
       "      <td>42</td>\n",
       "      <td>FUNK</td>\n",
       "      <td>287</td>\n",
       "      <td>0.696970</td>\n",
       "      <td>0.806452</td>\n",
       "      <td>0.702128</td>\n",
       "      <td>0.003030</td>\n",
       "    </tr>\n",
       "    <tr>\n",
       "      <th>299</th>\n",
       "      <td>Never Recover (Lil Baby &amp; Gunna, Drake)</td>\n",
       "      <td>Lil Baby</td>\n",
       "      <td>5/10/18</td>\n",
       "      <td>132</td>\n",
       "      <td>69</td>\n",
       "      <td>76</td>\n",
       "      <td>-5</td>\n",
       "      <td>91</td>\n",
       "      <td>03:15</td>\n",
       "      <td>7</td>\n",
       "      <td>89</td>\n",
       "      <td>RAP</td>\n",
       "      <td>195</td>\n",
       "      <td>0.696970</td>\n",
       "      <td>0.838710</td>\n",
       "      <td>0.936170</td>\n",
       "      <td>0.003030</td>\n",
       "    </tr>\n",
       "    <tr>\n",
       "      <th>146</th>\n",
       "      <td>Free</td>\n",
       "      <td>Bleeker</td>\n",
       "      <td>21/10/16</td>\n",
       "      <td>184</td>\n",
       "      <td>69</td>\n",
       "      <td>53</td>\n",
       "      <td>-5</td>\n",
       "      <td>83</td>\n",
       "      <td>02:25</td>\n",
       "      <td>0</td>\n",
       "      <td>41</td>\n",
       "      <td>ROCK</td>\n",
       "      <td>145</td>\n",
       "      <td>0.696970</td>\n",
       "      <td>0.838710</td>\n",
       "      <td>0.851064</td>\n",
       "      <td>0.003030</td>\n",
       "    </tr>\n",
       "    <tr>\n",
       "      <th>495</th>\n",
       "      <td>Pick Up On Your Line</td>\n",
       "      <td>Jurassik Funk</td>\n",
       "      <td>10/01/10</td>\n",
       "      <td>114</td>\n",
       "      <td>69</td>\n",
       "      <td>70</td>\n",
       "      <td>-6</td>\n",
       "      <td>80</td>\n",
       "      <td>04:46</td>\n",
       "      <td>12</td>\n",
       "      <td>46</td>\n",
       "      <td>FUNK</td>\n",
       "      <td>286</td>\n",
       "      <td>0.696970</td>\n",
       "      <td>0.806452</td>\n",
       "      <td>0.819149</td>\n",
       "      <td>0.003030</td>\n",
       "    </tr>\n",
       "    <tr>\n",
       "      <th>501</th>\n",
       "      <td>Cloud 9</td>\n",
       "      <td>Jamiroquai</td>\n",
       "      <td>10/02/17</td>\n",
       "      <td>115</td>\n",
       "      <td>69</td>\n",
       "      <td>88</td>\n",
       "      <td>-8</td>\n",
       "      <td>43</td>\n",
       "      <td>03:57</td>\n",
       "      <td>40</td>\n",
       "      <td>4</td>\n",
       "      <td>FUNK</td>\n",
       "      <td>237</td>\n",
       "      <td>0.696970</td>\n",
       "      <td>0.741935</td>\n",
       "      <td>0.425532</td>\n",
       "      <td>0.003030</td>\n",
       "    </tr>\n",
       "    <tr>\n",
       "      <th>317</th>\n",
       "      <td>Mona Lisa (feat. Kendrick Lamar)</td>\n",
       "      <td>Lil Wayne</td>\n",
       "      <td>28/09/18</td>\n",
       "      <td>122</td>\n",
       "      <td>69</td>\n",
       "      <td>86</td>\n",
       "      <td>-4</td>\n",
       "      <td>49</td>\n",
       "      <td>05:24</td>\n",
       "      <td>37</td>\n",
       "      <td>92</td>\n",
       "      <td>RAP</td>\n",
       "      <td>324</td>\n",
       "      <td>0.696970</td>\n",
       "      <td>0.870968</td>\n",
       "      <td>0.489362</td>\n",
       "      <td>0.003030</td>\n",
       "    </tr>\n",
       "    <tr>\n",
       "      <th>310</th>\n",
       "      <td>No Stylist</td>\n",
       "      <td>French Montana</td>\n",
       "      <td>20/09/18</td>\n",
       "      <td>147</td>\n",
       "      <td>70</td>\n",
       "      <td>77</td>\n",
       "      <td>-5</td>\n",
       "      <td>50</td>\n",
       "      <td>03:12</td>\n",
       "      <td>2</td>\n",
       "      <td>91</td>\n",
       "      <td>RAP</td>\n",
       "      <td>192</td>\n",
       "      <td>0.707071</td>\n",
       "      <td>0.838710</td>\n",
       "      <td>0.500000</td>\n",
       "      <td>0.007071</td>\n",
       "    </tr>\n",
       "    <tr>\n",
       "      <th>270</th>\n",
       "      <td>Guided by the Glowing Sea</td>\n",
       "      <td>The American Dollar</td>\n",
       "      <td>1/07/17</td>\n",
       "      <td>116</td>\n",
       "      <td>70</td>\n",
       "      <td>46</td>\n",
       "      <td>-12</td>\n",
       "      <td>13</td>\n",
       "      <td>04:29</td>\n",
       "      <td>0</td>\n",
       "      <td>55</td>\n",
       "      <td>DEEP FOCUS</td>\n",
       "      <td>269</td>\n",
       "      <td>0.707071</td>\n",
       "      <td>0.612903</td>\n",
       "      <td>0.106383</td>\n",
       "      <td>0.007071</td>\n",
       "    </tr>\n",
       "    <tr>\n",
       "      <th>14</th>\n",
       "      <td>New Rules</td>\n",
       "      <td>Dua Lipa</td>\n",
       "      <td>2/06/17</td>\n",
       "      <td>116</td>\n",
       "      <td>70</td>\n",
       "      <td>76</td>\n",
       "      <td>-6</td>\n",
       "      <td>61</td>\n",
       "      <td>03:29</td>\n",
       "      <td>0</td>\n",
       "      <td>88</td>\n",
       "      <td>POP</td>\n",
       "      <td>209</td>\n",
       "      <td>0.707071</td>\n",
       "      <td>0.806452</td>\n",
       "      <td>0.617021</td>\n",
       "      <td>0.007071</td>\n",
       "    </tr>\n",
       "  </tbody>\n",
       "</table>\n",
       "</div>"
      ],
      "text/plain": [
       "                                       title               artist   release  \\\n",
       "576                           Clint Eastwood             Gorillaz  26/03/01   \n",
       "477                                    Stuff   Kyle Hollingsworth  23/02/18   \n",
       "299  Never Recover (Lil Baby & Gunna, Drake)             Lil Baby   5/10/18   \n",
       "146                                     Free              Bleeker  21/10/16   \n",
       "495                     Pick Up On Your Line        Jurassik Funk  10/01/10   \n",
       "501                                  Cloud 9           Jamiroquai  10/02/17   \n",
       "317         Mona Lisa (feat. Kendrick Lamar)            Lil Wayne  28/09/18   \n",
       "310                               No Stylist       French Montana  20/09/18   \n",
       "270                Guided by the Glowing Sea  The American Dollar   1/07/17   \n",
       "14                                 New Rules             Dua Lipa   2/06/17   \n",
       "\n",
       "     bpm  energy  danceability  loud  valence length  acoustic  popularity  \\\n",
       "576  168      69            66    -9       52  05:41         2          76   \n",
       "477   90      69            73    -6       69  04:47         6          42   \n",
       "299  132      69            76    -5       91  03:15         7          89   \n",
       "146  184      69            53    -5       83  02:25         0          41   \n",
       "495  114      69            70    -6       80  04:46        12          46   \n",
       "501  115      69            88    -8       43  03:57        40           4   \n",
       "317  122      69            86    -4       49  05:24        37          92   \n",
       "310  147      70            77    -5       50  03:12         2          91   \n",
       "270  116      70            46   -12       13  04:29         0          55   \n",
       "14   116      70            76    -6       61  03:29         0          88   \n",
       "\n",
       "          style  length_minutes  f_energy    f_loud  f_valence  \\\n",
       "576   DECENNIES             341  0.696970  0.709677   0.521277   \n",
       "477        FUNK             287  0.696970  0.806452   0.702128   \n",
       "299         RAP             195  0.696970  0.838710   0.936170   \n",
       "146        ROCK             145  0.696970  0.838710   0.851064   \n",
       "495        FUNK             286  0.696970  0.806452   0.819149   \n",
       "501        FUNK             237  0.696970  0.741935   0.425532   \n",
       "317         RAP             324  0.696970  0.870968   0.489362   \n",
       "310         RAP             192  0.707071  0.838710   0.500000   \n",
       "270  DEEP FOCUS             269  0.707071  0.612903   0.106383   \n",
       "14          POP             209  0.707071  0.806452   0.617021   \n",
       "\n",
       "     distance_energy  \n",
       "576         0.003030  \n",
       "477         0.003030  \n",
       "299         0.003030  \n",
       "146         0.003030  \n",
       "495         0.003030  \n",
       "501         0.003030  \n",
       "317         0.003030  \n",
       "310         0.007071  \n",
       "270         0.007071  \n",
       "14          0.007071  "
      ]
     },
     "execution_count": 48,
     "metadata": {},
     "output_type": "execute_result"
    }
   ],
   "source": [
    "sorted_sp_dt_energy.head(10)"
   ]
  },
  {
   "cell_type": "markdown",
   "metadata": {},
   "source": [
    "#### 3.2.1.3 On sélectionne les K plus proches voisins"
   ]
  },
  {
   "cell_type": "code",
   "execution_count": 49,
   "metadata": {},
   "outputs": [],
   "source": [
    "k_neighbors_mono_feature = 5"
   ]
  },
  {
   "cell_type": "code",
   "execution_count": 50,
   "metadata": {},
   "outputs": [],
   "source": [
    "neighbors_mono_feature = sorted_sp_dt_energy[:k_neighbors_mono_feature]"
   ]
  },
  {
   "cell_type": "markdown",
   "metadata": {},
   "source": [
    "#### 3.2.1.4 On fait la moyenne de leur danceability"
   ]
  },
  {
   "cell_type": "code",
   "execution_count": 51,
   "metadata": {
    "scrolled": false
   },
   "outputs": [
    {
     "data": {
      "text/plain": [
       "67.6"
      ]
     },
     "execution_count": 51,
     "metadata": {},
     "output_type": "execute_result"
    }
   ],
   "source": [
    "neighbors_mono_feature[target].mean()"
   ]
  },
  {
   "cell_type": "markdown",
   "metadata": {},
   "source": [
    "#### 3.2.1.5 Sklearn est là pour nous épauler"
   ]
  },
  {
   "cell_type": "markdown",
   "metadata": {},
   "source": [
    "Évidemment, cet algorithme n'est pas tout récent et celui-ci a déjà été implémenté dans la libraire scikit-learn."
   ]
  },
  {
   "cell_type": "markdown",
   "metadata": {},
   "source": [
    "Créons le modèle :"
   ]
  },
  {
   "cell_type": "code",
   "execution_count": 52,
   "metadata": {},
   "outputs": [],
   "source": [
    "# on lui demande de se baser sur ses 5 proches voisons\n",
    "# et nous avons spécifié l'algorithme en brute => c'est celui avec lequel nous avons précédemment travaillé\n",
    "knn_mono = KNeighborsRegressor(5, algorithm = 'brute')"
   ]
  },
  {
   "cell_type": "markdown",
   "metadata": {},
   "source": [
    "Donnons lui ensuite des données afin qu'il les \"étudie\" :"
   ]
  },
  {
   "cell_type": "code",
   "execution_count": 53,
   "metadata": {},
   "outputs": [
    {
     "data": {
      "text/plain": [
       "KNeighborsRegressor(algorithm='brute', leaf_size=30, metric='minkowski',\n",
       "          metric_params=None, n_jobs=1, n_neighbors=5, p=2,\n",
       "          weights='uniform')"
      ]
     },
     "execution_count": 53,
     "metadata": {},
     "output_type": "execute_result"
    }
   ],
   "source": [
    "knn_mono.fit(sp_dt_energy[[mono_feature]], sp[target])"
   ]
  },
  {
   "cell_type": "markdown",
   "metadata": {},
   "source": [
    "Enfin, nous pouvons lui demander de faire des prédictions :"
   ]
  },
  {
   "cell_type": "code",
   "execution_count": 54,
   "metadata": {},
   "outputs": [
    {
     "data": {
      "text/plain": [
       "array([67.6])"
      ]
     },
     "execution_count": 54,
     "metadata": {},
     "output_type": "execute_result"
    }
   ],
   "source": [
    "knn_mono.predict(music_for_test[mono_feature])"
   ]
  },
  {
   "cell_type": "markdown",
   "metadata": {},
   "source": [
    "### 3.2.2 Multivariate K-Nearest Neighbors"
   ]
  },
  {
   "cell_type": "markdown",
   "metadata": {},
   "source": [
    "Sous ce nom quelque peu imposant se cache un concept simple. Pour l'instant, nous n'avons utilisé qu'un seul paramètre pour prédire notre score. Ce n'est évidemment pas suffisant pour prédire avec précision la réalité. Une potentielle solution serait d'utiliser plusieurs paramètres : **energy, loud et valence**."
   ]
  },
  {
   "cell_type": "markdown",
   "metadata": {},
   "source": [
    "Lorsque vous utilisez plusieurs paramètres avec le K-Nearest Neighbors, on dit de lui qu'il est **multivariate**. "
   ]
  },
  {
   "cell_type": "markdown",
   "metadata": {},
   "source": [
    "Basons-nous sur le modèle que nous propose sklearn :"
   ]
  },
  {
   "cell_type": "code",
   "execution_count": 55,
   "metadata": {},
   "outputs": [],
   "source": [
    "knn_multivariate = KNeighborsRegressor(5, algorithm='brute')"
   ]
  },
  {
   "cell_type": "markdown",
   "metadata": {},
   "source": [
    "Entraînons notre modèle :"
   ]
  },
  {
   "cell_type": "code",
   "execution_count": 56,
   "metadata": {},
   "outputs": [
    {
     "data": {
      "text/plain": [
       "KNeighborsRegressor(algorithm='brute', leaf_size=30, metric='minkowski',\n",
       "          metric_params=None, n_jobs=1, n_neighbors=5, p=2,\n",
       "          weights='uniform')"
      ]
     },
     "execution_count": 56,
     "metadata": {},
     "output_type": "execute_result"
    }
   ],
   "source": [
    "knn_multivariate.fit(sp[features], sp[target])"
   ]
  },
  {
   "cell_type": "markdown",
   "metadata": {},
   "source": [
    "Réessayons de trouver le score de *danceability* de notre musique :"
   ]
  },
  {
   "cell_type": "code",
   "execution_count": 57,
   "metadata": {},
   "outputs": [
    {
     "data": {
      "text/plain": [
       "array([69.6])"
      ]
     },
     "execution_count": 57,
     "metadata": {},
     "output_type": "execute_result"
    }
   ],
   "source": [
    "knn_multivariate.predict([music_for_test[features]])"
   ]
  },
  {
   "cell_type": "markdown",
   "metadata": {},
   "source": [
    "Nous voyons que notre score a augmenté. Cependant, il est pour l'instant impossible de dire si notre premier modèle est meilleur que le second (ou l'inverse) !"
   ]
  },
  {
   "cell_type": "markdown",
   "metadata": {},
   "source": [
    "Pour vérifier cela, nous allons devoir **l'évaluer**."
   ]
  },
  {
   "cell_type": "markdown",
   "metadata": {},
   "source": [
    "### 3.2.3 Evaluation d'un modèle"
   ]
  },
  {
   "cell_type": "markdown",
   "metadata": {},
   "source": [
    "Nous avons enfin obtenu un algorithme qui marche et qui est capable de réaliser des prédictions uniquement sur **l'energy**. Toutefois, cet algorithme n'est pas parfait et ne prédit pas à 100% un résultat réel. Nous nous devons donc de le contrôler à travers le procédé du **mean squared error**."
   ]
  },
  {
   "cell_type": "markdown",
   "metadata": {},
   "source": [
    "<img src='assets/mse_formula.png'/>"
   ]
  },
  {
   "cell_type": "markdown",
   "metadata": {},
   "source": [
    "Ne soyez pas effrayé à cause de cette formule. Décomposons-là ensemble :\n",
    "1. Dans la parenthèse, vous devez soustraire votre variable réelle 'target' et votre variable prédite (le résidu).\n",
    "2. Réalisez ensuite le carré.\n",
    "3. Répétez cette procédure autant de fois que vous avez d'éléments et additionnez-les.\n",
    "4. Divisez ensuite par n (oui, il s'agit d'une moyenne)."
   ]
  },
  {
   "cell_type": "markdown",
   "metadata": {},
   "source": [
    "Plus le résultat de cette formule sera proche de 0, meilleur sera votre modèle."
   ]
  },
  {
   "cell_type": "markdown",
   "metadata": {},
   "source": [
    "On peut déjà préparer nos Y (réels) :"
   ]
  },
  {
   "cell_type": "code",
   "execution_count": 58,
   "metadata": {},
   "outputs": [],
   "source": [
    "Y = sp[target]"
   ]
  },
  {
   "cell_type": "markdown",
   "metadata": {},
   "source": [
    "#### 3.2.3.1 Evalutation de notre premier modèle"
   ]
  },
  {
   "cell_type": "code",
   "execution_count": 59,
   "metadata": {},
   "outputs": [],
   "source": [
    "Y_predicted_mono = knn_mono.predict(sp[[mono_feature]])"
   ]
  },
  {
   "cell_type": "code",
   "execution_count": 60,
   "metadata": {},
   "outputs": [
    {
     "data": {
      "text/plain": [
       "211.42187779433684"
      ]
     },
     "execution_count": 60,
     "metadata": {},
     "output_type": "execute_result"
    }
   ],
   "source": [
    "mse_mono = ((Y - Y_predicted_mono) ** 2).mean()\n",
    "mse_mono"
   ]
  },
  {
   "cell_type": "markdown",
   "metadata": {},
   "source": [
    "#### 3.2.3.2 Evaluation de notre second modèle"
   ]
  },
  {
   "cell_type": "code",
   "execution_count": 61,
   "metadata": {},
   "outputs": [],
   "source": [
    "Y_predicted_multi = knn_multivariate.predict(sp[features])"
   ]
  },
  {
   "cell_type": "code",
   "execution_count": 62,
   "metadata": {},
   "outputs": [
    {
     "data": {
      "text/plain": [
       "130.39922503725782"
      ]
     },
     "execution_count": 62,
     "metadata": {},
     "output_type": "execute_result"
    }
   ],
   "source": [
    "mse_multi = ((Y - Y_predicted_multi) ** 2).mean()\n",
    "mse_multi"
   ]
  },
  {
   "cell_type": "markdown",
   "metadata": {},
   "source": [
    "Pour aller plus vite dans le calcul du **mse**, nous pouvons utiliser la fonction **mean_squared_error** de sklearn :"
   ]
  },
  {
   "cell_type": "code",
   "execution_count": 63,
   "metadata": {},
   "outputs": [
    {
     "data": {
      "text/plain": [
       "130.39922503725782"
      ]
     },
     "execution_count": 63,
     "metadata": {},
     "output_type": "execute_result"
    }
   ],
   "source": [
    "mean_squared_error(Y, Y_predicted_multi)"
   ]
  },
  {
   "cell_type": "markdown",
   "metadata": {},
   "source": [
    "#### 3.2.3.3 Verdict"
   ]
  },
  {
   "cell_type": "markdown",
   "metadata": {},
   "source": [
    "Grâce à ce mécanisme, nous pouvons dire que le second modèle est meilleur que le premier."
   ]
  },
  {
   "cell_type": "code",
   "execution_count": 64,
   "metadata": {},
   "outputs": [
    {
     "data": {
      "text/plain": [
       "True"
      ]
     },
     "execution_count": 64,
     "metadata": {},
     "output_type": "execute_result"
    }
   ],
   "source": [
    "mse_multi < mse_mono"
   ]
  },
  {
   "cell_type": "markdown",
   "metadata": {},
   "source": [
    "# 4. Utilisons l'outil sklearn"
   ]
  },
  {
   "cell_type": "markdown",
   "metadata": {},
   "source": [
    "## 4.1 Préparons nos données pour entraîner et tester notre modèle"
   ]
  },
  {
   "cell_type": "code",
   "execution_count": 65,
   "metadata": {},
   "outputs": [],
   "source": [
    "train, test = train_test_split(sp, test_size=0.2, random_state = 1)"
   ]
  },
  {
   "cell_type": "code",
   "execution_count": 66,
   "metadata": {},
   "outputs": [
    {
     "data": {
      "text/html": [
       "<div>\n",
       "<style scoped>\n",
       "    .dataframe tbody tr th:only-of-type {\n",
       "        vertical-align: middle;\n",
       "    }\n",
       "\n",
       "    .dataframe tbody tr th {\n",
       "        vertical-align: top;\n",
       "    }\n",
       "\n",
       "    .dataframe thead th {\n",
       "        text-align: right;\n",
       "    }\n",
       "</style>\n",
       "<table border=\"1\" class=\"dataframe\">\n",
       "  <thead>\n",
       "    <tr style=\"text-align: right;\">\n",
       "      <th></th>\n",
       "      <th>title</th>\n",
       "      <th>artist</th>\n",
       "      <th>release</th>\n",
       "      <th>bpm</th>\n",
       "      <th>energy</th>\n",
       "      <th>danceability</th>\n",
       "      <th>loud</th>\n",
       "      <th>valence</th>\n",
       "      <th>length</th>\n",
       "      <th>acoustic</th>\n",
       "      <th>popularity</th>\n",
       "      <th>style</th>\n",
       "      <th>length_minutes</th>\n",
       "      <th>f_energy</th>\n",
       "      <th>f_loud</th>\n",
       "      <th>f_valence</th>\n",
       "    </tr>\n",
       "  </thead>\n",
       "  <tbody>\n",
       "    <tr>\n",
       "      <th>312</th>\n",
       "      <td>REEL IT IN</td>\n",
       "      <td>Aminé</td>\n",
       "      <td>15/08/18</td>\n",
       "      <td>129</td>\n",
       "      <td>34</td>\n",
       "      <td>75</td>\n",
       "      <td>-9</td>\n",
       "      <td>42</td>\n",
       "      <td>02:01</td>\n",
       "      <td>7</td>\n",
       "      <td>87</td>\n",
       "      <td>RAP</td>\n",
       "      <td>121</td>\n",
       "      <td>0.343434</td>\n",
       "      <td>0.709677</td>\n",
       "      <td>0.414894</td>\n",
       "    </tr>\n",
       "    <tr>\n",
       "      <th>639</th>\n",
       "      <td>Teenage Dirtbag</td>\n",
       "      <td>Wheatus</td>\n",
       "      <td>15/02/99</td>\n",
       "      <td>95</td>\n",
       "      <td>85</td>\n",
       "      <td>63</td>\n",
       "      <td>-4</td>\n",
       "      <td>63</td>\n",
       "      <td>04:02</td>\n",
       "      <td>35</td>\n",
       "      <td>67</td>\n",
       "      <td>DECENNIES</td>\n",
       "      <td>242</td>\n",
       "      <td>0.858586</td>\n",
       "      <td>0.870968</td>\n",
       "      <td>0.638298</td>\n",
       "    </tr>\n",
       "    <tr>\n",
       "      <th>611</th>\n",
       "      <td>Call On Me - Radio Edit</td>\n",
       "      <td>Eric Prydz</td>\n",
       "      <td>13/09/04</td>\n",
       "      <td>126</td>\n",
       "      <td>84</td>\n",
       "      <td>60</td>\n",
       "      <td>-7</td>\n",
       "      <td>45</td>\n",
       "      <td>02:51</td>\n",
       "      <td>0</td>\n",
       "      <td>23</td>\n",
       "      <td>DECENNIES</td>\n",
       "      <td>171</td>\n",
       "      <td>0.848485</td>\n",
       "      <td>0.774194</td>\n",
       "      <td>0.446809</td>\n",
       "    </tr>\n",
       "    <tr>\n",
       "      <th>592</th>\n",
       "      <td>All The Things She Said</td>\n",
       "      <td>t.A.T.u.</td>\n",
       "      <td>2002</td>\n",
       "      <td>90</td>\n",
       "      <td>83</td>\n",
       "      <td>60</td>\n",
       "      <td>-6</td>\n",
       "      <td>45</td>\n",
       "      <td>03:34</td>\n",
       "      <td>4</td>\n",
       "      <td>30</td>\n",
       "      <td>DECENNIES</td>\n",
       "      <td>214</td>\n",
       "      <td>0.838384</td>\n",
       "      <td>0.806452</td>\n",
       "      <td>0.446809</td>\n",
       "    </tr>\n",
       "    <tr>\n",
       "      <th>116</th>\n",
       "      <td>Night People</td>\n",
       "      <td>You Me At Six</td>\n",
       "      <td>22/08/16</td>\n",
       "      <td>82</td>\n",
       "      <td>80</td>\n",
       "      <td>47</td>\n",
       "      <td>-5</td>\n",
       "      <td>41</td>\n",
       "      <td>03:04</td>\n",
       "      <td>0</td>\n",
       "      <td>38</td>\n",
       "      <td>ROCK</td>\n",
       "      <td>184</td>\n",
       "      <td>0.808081</td>\n",
       "      <td>0.838710</td>\n",
       "      <td>0.404255</td>\n",
       "    </tr>\n",
       "  </tbody>\n",
       "</table>\n",
       "</div>"
      ],
      "text/plain": [
       "                       title         artist   release  bpm  energy  \\\n",
       "312               REEL IT IN          Aminé  15/08/18  129      34   \n",
       "639          Teenage Dirtbag        Wheatus  15/02/99   95      85   \n",
       "611  Call On Me - Radio Edit     Eric Prydz  13/09/04  126      84   \n",
       "592  All The Things She Said       t.A.T.u.      2002   90      83   \n",
       "116             Night People  You Me At Six  22/08/16   82      80   \n",
       "\n",
       "     danceability  loud  valence length  acoustic  popularity      style  \\\n",
       "312            75    -9       42  02:01         7          87        RAP   \n",
       "639            63    -4       63  04:02        35          67  DECENNIES   \n",
       "611            60    -7       45  02:51         0          23  DECENNIES   \n",
       "592            60    -6       45  03:34         4          30  DECENNIES   \n",
       "116            47    -5       41  03:04         0          38       ROCK   \n",
       "\n",
       "     length_minutes  f_energy    f_loud  f_valence  \n",
       "312             121  0.343434  0.709677   0.414894  \n",
       "639             242  0.858586  0.870968   0.638298  \n",
       "611             171  0.848485  0.774194   0.446809  \n",
       "592             214  0.838384  0.806452   0.446809  \n",
       "116             184  0.808081  0.838710   0.404255  "
      ]
     },
     "execution_count": 66,
     "metadata": {},
     "output_type": "execute_result"
    }
   ],
   "source": [
    "train.head()"
   ]
  },
  {
   "cell_type": "markdown",
   "metadata": {},
   "source": [
    "## 4.2 Créer et entraîner notre modèle"
   ]
  },
  {
   "cell_type": "code",
   "execution_count": 67,
   "metadata": {},
   "outputs": [],
   "source": [
    "# Nous le créons\n",
    "knn = KNeighborsRegressor(n_neighbors = 5, algorithm = 'brute')"
   ]
  },
  {
   "cell_type": "code",
   "execution_count": 68,
   "metadata": {},
   "outputs": [
    {
     "data": {
      "text/plain": [
       "KNeighborsRegressor(algorithm='brute', leaf_size=30, metric='minkowski',\n",
       "          metric_params=None, n_jobs=1, n_neighbors=5, p=2,\n",
       "          weights='uniform')"
      ]
     },
     "execution_count": 68,
     "metadata": {},
     "output_type": "execute_result"
    }
   ],
   "source": [
    "# Nous l'entraînons\n",
    "knn.fit(train[features], train[target])"
   ]
  },
  {
   "cell_type": "code",
   "execution_count": 69,
   "metadata": {},
   "outputs": [
    {
     "data": {
      "text/plain": [
       "array([56.8])"
      ]
     },
     "execution_count": 69,
     "metadata": {},
     "output_type": "execute_result"
    }
   ],
   "source": [
    "# Nous réalisons une prédiction\n",
    "knn.predict([random_music[features]])"
   ]
  },
  {
   "cell_type": "markdown",
   "metadata": {},
   "source": [
    "## 4.3 Tester notre modèle"
   ]
  },
  {
   "cell_type": "markdown",
   "metadata": {},
   "source": [
    "### 4.3.1 La validation croisée : théorie"
   ]
  },
  {
   "cell_type": "markdown",
   "metadata": {},
   "source": [
    "sklearn nous propose quelques outils pour tester rapidement et facilement nos modèles. L'un d'entre eux se nomme ***KFold***. Afin de comprendre à quoi il correspond réellement, nous devons comprendre un nouveau concept : **l'entrainement** et le **test**."
   ]
  },
  {
   "cell_type": "markdown",
   "metadata": {},
   "source": [
    "Quand on **entraîne** un modèle, on extraira une partie de notre base de données afin de lui faire apprendre de nouvelles informations. Cette partie-là possède un nom : **training set**. Généralement, on utilise **80%** de nos ressources en tant que **training set**."
   ]
  },
  {
   "cell_type": "markdown",
   "metadata": {},
   "source": [
    "Dès lors, il nous reste logiquement 20% qui est non affecté. Justement, ces **20%** vont être utilisés pour **tester** notre modèle fraîchement construit."
   ]
  },
  {
   "cell_type": "markdown",
   "metadata": {},
   "source": [
    "L'outil ***KFold***, lui, fait tout ça à notre place et bien plus. Une image valant plus de mille mots :"
   ]
  },
  {
   "cell_type": "markdown",
   "metadata": {},
   "source": [
    "<img src='http://i.imgur.com/gu3Fa6w.png'/>"
   ]
  },
  {
   "cell_type": "markdown",
   "metadata": {},
   "source": [
    "<div style='text-align: center'>Source : Dataquest - <a href='http://i.imgur.com/gu3Fa6w.png'>lien de l'image</a></div>"
   ]
  },
  {
   "cell_type": "markdown",
   "metadata": {},
   "source": [
    "En nous basant sur l'image, nous pouvons remarquer que le ***KFold*** réalise plusieurs itérations. Lors de chaque itération, il vous procure un **training** et un **test** set différent à chaque fois. Grâce à cela, il sera plus facile de tester la viabilité de votre modèle en fonction de la même source de données."
   ]
  },
  {
   "cell_type": "markdown",
   "metadata": {},
   "source": [
    "En nous basant sur une instance de KFold, nous pourrons réaliser n-boucles où nous créerons des modèles afin de vérifier leur mse (mean squared error). Leur mse, nous les stockerons dans un tableau. À la fin de notre boucle, nous pouvons effectuer la moyenne des mse afin de détecter de potentielles anomalies ou non (par exemple : l'overfitting)."
   ]
  },
  {
   "cell_type": "markdown",
   "metadata": {},
   "source": [
    "Toute cette procédure porte un nom : **la validation croisée**."
   ]
  },
  {
   "cell_type": "markdown",
   "metadata": {},
   "source": [
    "### 4.3.2 La validation croisée : pratique"
   ]
  },
  {
   "cell_type": "markdown",
   "metadata": {},
   "source": [
    "On importe le module en question "
   ]
  },
  {
   "cell_type": "code",
   "execution_count": 70,
   "metadata": {},
   "outputs": [],
   "source": [
    "from sklearn.model_selection import KFold"
   ]
  },
  {
   "cell_type": "markdown",
   "metadata": {},
   "source": [
    "On crée une instance de ***KFold***"
   ]
  },
  {
   "cell_type": "code",
   "execution_count": 71,
   "metadata": {},
   "outputs": [],
   "source": [
    "kfold = KFold(n_splits= 5, shuffle= True, random_state= 1)"
   ]
  },
  {
   "cell_type": "markdown",
   "metadata": {},
   "source": [
    "Analysons ensemble les arguments entrés :\n",
    "1. Lorsque l'on va appeler la méthode pour \"découper\" nos données, on lui demande d'en faire 5 découpes/itérations. Par conséquent, il nous fournira 5 training sets et 5 test sets. Ces training/test sets **contiennent uniquement des indices et non les données en elles-mêmes**.\n",
    "2. On lui demande de mélanger nos données aléatoirement.\n",
    "3. On peut également parler de *seed*. Grâce à ce concept, l'algorithme va mélanger les données sur base de cette information."
   ]
  },
  {
   "cell_type": "markdown",
   "metadata": {},
   "source": [
    "Afin de récupérer nos \"découpes\", on envoie un message à la méthode *split* en lui passant en argument notre dataset."
   ]
  },
  {
   "cell_type": "markdown",
   "metadata": {},
   "source": [
    "Nous réaliserons :"
   ]
  },
  {
   "cell_type": "code",
   "execution_count": 72,
   "metadata": {},
   "outputs": [],
   "source": [
    "# on crée notre tableau où nous stockerons les mse\n",
    "mses = []\n",
    "# on exécute nos découpes\n",
    "for train_i, test_i in kfold.split(sp):\n",
    "    # grâce aux indices que nous donne notre découpe, on sélectionne notre training et test set\n",
    "    train = sp.iloc[train_i]\n",
    "    test = sp.iloc[test_i]\n",
    "    # on crée notre modèle\n",
    "    knn_fold = KNeighborsRegressor(5, algorithm = 'brute')\n",
    "    # on les lui fait apprendre \n",
    "    knn_fold.fit(train[features], train[target])\n",
    "    # on réalise nos prédictions\n",
    "    predictions = knn_fold.predict(test[features])\n",
    "    # on calcule son mse\n",
    "    mse = mean_squared_error(test[target], predictions)\n",
    "    # on ajoute son mse à notre tableau\n",
    "    mses.append(mse)"
   ]
  },
  {
   "cell_type": "code",
   "execution_count": 73,
   "metadata": {},
   "outputs": [
    {
     "name": "stdout",
     "output_type": "stream",
     "text": [
      "MSES : [211.05599999999998, 179.66776119402982, 193.1823880597015, 194.88895522388063, 187.42776119402984]\n",
      "Var MSE 107.62398200842958\n",
      "MSE avg : 193.24457313432836\n"
     ]
    }
   ],
   "source": [
    "print('MSES :', mses)\n",
    "print('Var MSE', np.var(mses))\n",
    "print('MSE avg :', np.mean(mses))"
   ]
  },
  {
   "cell_type": "code",
   "execution_count": 74,
   "metadata": {},
   "outputs": [
    {
     "data": {
      "text/plain": [
       "<matplotlib.legend.Legend at 0x1197d9ac8>"
      ]
     },
     "execution_count": 74,
     "metadata": {},
     "output_type": "execute_result"
    },
    {
     "data": {
      "image/png": "[encoded data removed]",
      "text/plain": [
       "<Figure size 432x288 with 1 Axes>"
      ]
     },
     "metadata": {
      "needs_background": "light"
     },
     "output_type": "display_data"
    }
   ],
   "source": [
    "plt.scatter(list(range(len(mses))), mses, label = 'mses')\n",
    "plt.scatter(5, [len(mses) + 1], label = 'mse of our model')\n",
    "plt.axhline(np.mean(mses), color = 'black', label = 'mean of mses')\n",
    "plt.legend()"
   ]
  },
  {
   "cell_type": "markdown",
   "metadata": {},
   "source": [
    "Pourquoi notre modèle a-t-il un mse bien plus faible que les autres ? La réponse est simple : nous lui avons donné beaucoup plus de données qu'aux autres modèles. Par conséquent, il sait prédire avec plus d'efficacité le futur => d'où son mse plus faible."
   ]
  },
  {
   "cell_type": "markdown",
   "metadata": {},
   "source": [
    "### 4.3.3 Cross val score"
   ]
  },
  {
   "cell_type": "markdown",
   "metadata": {},
   "source": [
    "Tout ce que l'on vient de produire au-dessus peut être réalisé avec l'aide de la fonction **cross_val_score**."
   ]
  },
  {
   "cell_type": "markdown",
   "metadata": {},
   "source": [
    "Celle-ci prend en considération plusieurs arguments :\n",
    "1. une instance vierge de votre modèle\n",
    "2. tous vos X (sous une forme de tableau à **deux dimensions**)\n",
    "3. tous vos y (sous une forme de tableau à **une dimension**)\n",
    "4. scoring = le type de valeur qu'il doit calculer. Nous utiliserons \"neg_mean_squared_error\"\n",
    "5. cv (cross validation) = une instance de KFold (entre autres)"
   ]
  },
  {
   "cell_type": "markdown",
   "metadata": {},
   "source": [
    "En suivant toutes ces règles :"
   ]
  },
  {
   "cell_type": "code",
   "execution_count": 75,
   "metadata": {},
   "outputs": [
    {
     "data": {
      "text/plain": [
       "array([-211.056     , -179.66776119, -193.18238806, -194.88895522,\n",
       "       -187.42776119])"
      ]
     },
     "execution_count": 75,
     "metadata": {},
     "output_type": "execute_result"
    }
   ],
   "source": [
    "blank_model = KNeighborsRegressor(n_neighbors=5, algorithm='brute')\n",
    "kfold = KFold(n_splits=5, shuffle=True, random_state=1)\n",
    "cross_val_score(blank_model, sp[features], sp[target], scoring=\"neg_mean_squared_error\", cv=kfold)"
   ]
  },
  {
   "cell_type": "markdown",
   "metadata": {},
   "source": [
    "### 4.3.4 À la recherche du MSE minimal"
   ]
  },
  {
   "cell_type": "markdown",
   "metadata": {},
   "source": [
    "En faisant appel à **cross_val_score**, nous allons tenter de trouver les features les plus pertinentes ainsi que le bon nombre de voisins."
   ]
  },
  {
   "cell_type": "markdown",
   "metadata": {},
   "source": [
    "Commençons par créer une variable \"features_optimal\" (pour plus de facilitée, nous ne prenons que les variables d'origines [nous ignorons les variables normalisées/standardisées]) et une liste de voisins :"
   ]
  },
  {
   "cell_type": "code",
   "execution_count": 81,
   "metadata": {},
   "outputs": [],
   "source": [
    "# 1er essai\n",
    "# features_optimal = ['bpm', 'energy', 'valence', 'loud', 'acoustic', 'popularity', 'length_minutes']\n",
    "# MSE = 156\n",
    "# 2e essai\n",
    "# features_optimal = ['bpm', 'energy', 'valence', 'loud', 'acoustic', 'popularity']\n",
    "# MSE = 137\n",
    "# ---> le MSE a baissé en retirant length_minutes. Alors, nous le supprimons définitivement\n",
    "# 3e essai\n",
    "# features_optimal = ['bpm', 'energy', 'valence', 'loud', 'acoustic']\n",
    "# MSE = 157\n",
    "# ---> en supprimant popularity, mon MSE a augmenté. Donc, nous ne le supprimons pas\n",
    "# 4e essai\n",
    "# features_optimal = ['bpm', 'energy', 'valence', 'loud', 'popularity']\n",
    "# MSE = 139\n",
    "# ---> le MSE a augmenté, nous ne supprimons pas acoustic\n",
    "# 5e essai\n",
    "features_optimal = ['bpm', 'energy', 'valence', 'acoustic', 'popularity']\n",
    "# ---> en supprimant loud, mon MSE reste toujours à 137. Supprimons le pour baisser la complexité de notre modèle\n",
    "# ---> et ainsi de suite...\n",
    "K = list(range(1, 31))"
   ]
  },
  {
   "cell_type": "markdown",
   "metadata": {},
   "source": [
    "Pour trouver le MSE minimal, retirez au fur et à mesure les features qui font diminuer votre MSE."
   ]
  },
  {
   "cell_type": "code",
   "execution_count": 77,
   "metadata": {},
   "outputs": [],
   "source": [
    "matrix_mse = []\n",
    "for k in K:\n",
    "    blank_model = KNeighborsRegressor(n_neighbors=k, algorithm='brute')\n",
    "    kfold = KFold(n_splits=5, shuffle=True, random_state=k)\n",
    "    mses = abs(cross_val_score(blank_model, sp[features_optimal], sp[target], scoring=\"neg_mean_squared_error\", cv=kfold))\n",
    "    matrix_mse.append(mses)"
   ]
  },
  {
   "cell_type": "code",
   "execution_count": 78,
   "metadata": {},
   "outputs": [],
   "source": [
    "# nous réalisons la moyenne de chaque ligne\n",
    "# ainsi, chaque valeur sera la moyenne de chaque valeur de k\n",
    "mses_by_k = np.mean(matrix_mse, axis = 1)"
   ]
  },
  {
   "cell_type": "code",
   "execution_count": 79,
   "metadata": {},
   "outputs": [
    {
     "data": {
      "text/plain": [
       "137.80024875621888"
      ]
     },
     "execution_count": 79,
     "metadata": {},
     "output_type": "execute_result"
    }
   ],
   "source": [
    "min(mses_by_k)"
   ]
  }
 ],
 "metadata": {
  "kernelspec": {
   "display_name": "Python 3",
   "language": "python",
   "name": "python3"
  },
  "language_info": {
   "codemirror_mode": {
    "name": "ipython",
    "version": 3
   },
   "file_extension": ".py",
   "mimetype": "text/x-python",
   "name": "python",
   "nbconvert_exporter": "python",
   "pygments_lexer": "ipython3",
   "version": "3.6.4"
  }
 },
 "nbformat": 4,
 "nbformat_minor": 2
}
